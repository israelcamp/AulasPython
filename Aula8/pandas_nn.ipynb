{
 "cells": [
  {
   "cell_type": "markdown",
   "metadata": {},
   "source": [
    "# Aula 8 - Introducao ao Pandas e Redes Neurais "
   ]
  },
  {
   "cell_type": "markdown",
   "metadata": {},
   "source": [
    "Nesta aula vamos ver como utilizar um arquivo ***.csv*** para receber um conjunto de dados e utiliza-los como entradas na nossa rede neural que estamos comecando a construir. Comecamos importando as bibliotecas que vamos utilizar"
   ]
  },
  {
   "cell_type": "code",
   "execution_count": 1,
   "metadata": {},
   "outputs": [],
   "source": [
    "import pandas as pd ## para ler o arquivo com os dados\n",
    "import numpy as np ## para fazer computacoes matematicas"
   ]
  },
  {
   "cell_type": "markdown",
   "metadata": {},
   "source": [
    "O arquivo que vamos utilizar tem o nome de ***ripley.csv*** e se encontra disponivel na mesma pasta que este notebook. Nele vamos encontrar 1250 linhas, cada uma contendo tres informacoes, a coordenada ***x1***, a coordenada ***x2*** e o alvo, ou seja, a classe ***y*** que pode assumir os valores de 0 ou 1. E importante ainda depois que recebermos os nossos dados, mistura-los, pois eles estao praticamente separados entre zeros e uns.\n",
    "\n",
    "**Obs**: df e uma abreviacao para ***DataFrame*** que e a classe do objeto retornado pela funcao ***read_csv***"
   ]
  },
  {
   "cell_type": "code",
   "execution_count": 2,
   "metadata": {},
   "outputs": [],
   "source": [
    "df = pd.read_csv('ripley.csv') ## recebendo o conjunto de dados\n",
    "df = df.sample(frac=1).reset_index(drop=True) ## misturando os dados do nosso conjunto"
   ]
  },
  {
   "cell_type": "code",
   "execution_count": 3,
   "metadata": {},
   "outputs": [
    {
     "data": {
      "text/html": [
       "<div>\n",
       "<style scoped>\n",
       "    .dataframe tbody tr th:only-of-type {\n",
       "        vertical-align: middle;\n",
       "    }\n",
       "\n",
       "    .dataframe tbody tr th {\n",
       "        vertical-align: top;\n",
       "    }\n",
       "\n",
       "    .dataframe thead th {\n",
       "        text-align: right;\n",
       "    }\n",
       "</style>\n",
       "<table border=\"1\" class=\"dataframe\">\n",
       "  <thead>\n",
       "    <tr style=\"text-align: right;\">\n",
       "      <th></th>\n",
       "      <th>x1</th>\n",
       "      <th>x2</th>\n",
       "      <th>y</th>\n",
       "    </tr>\n",
       "  </thead>\n",
       "  <tbody>\n",
       "    <tr>\n",
       "      <th>0</th>\n",
       "      <td>-0.439950</td>\n",
       "      <td>0.520993</td>\n",
       "      <td>1.0</td>\n",
       "    </tr>\n",
       "    <tr>\n",
       "      <th>1</th>\n",
       "      <td>-0.448940</td>\n",
       "      <td>0.650604</td>\n",
       "      <td>1.0</td>\n",
       "    </tr>\n",
       "    <tr>\n",
       "      <th>2</th>\n",
       "      <td>-0.406753</td>\n",
       "      <td>0.858976</td>\n",
       "      <td>1.0</td>\n",
       "    </tr>\n",
       "    <tr>\n",
       "      <th>3</th>\n",
       "      <td>-0.294967</td>\n",
       "      <td>0.707617</td>\n",
       "      <td>1.0</td>\n",
       "    </tr>\n",
       "    <tr>\n",
       "      <th>4</th>\n",
       "      <td>0.381000</td>\n",
       "      <td>0.653581</td>\n",
       "      <td>1.0</td>\n",
       "    </tr>\n",
       "  </tbody>\n",
       "</table>\n",
       "</div>"
      ],
      "text/plain": [
       "         x1        x2    y\n",
       "0 -0.439950  0.520993  1.0\n",
       "1 -0.448940  0.650604  1.0\n",
       "2 -0.406753  0.858976  1.0\n",
       "3 -0.294967  0.707617  1.0\n",
       "4  0.381000  0.653581  1.0"
      ]
     },
     "execution_count": 3,
     "metadata": {},
     "output_type": "execute_result"
    }
   ],
   "source": [
    "df.head()"
   ]
  },
  {
   "cell_type": "markdown",
   "metadata": {},
   "source": [
    "A funcao ***.head()*** nos permite olhar as primeiras cinco linhas do nosso conjunto. Veja que alem dos nomes das colunas, x1, x2 e y recebemos tambem para cada linha um **id** representado pelo primeiro numero em negrito, este valor nos permite acessar cada linha quando quisermos utilizando a sintaxe ***.iloc[id]***"
   ]
  },
  {
   "cell_type": "code",
   "execution_count": 4,
   "metadata": {
    "scrolled": true
   },
   "outputs": [
    {
     "name": "stdout",
     "output_type": "stream",
     "text": [
      "(1250, 3)\n"
     ]
    }
   ],
   "source": [
    "print(df.shape) ## checando o tamanho e dimensao do nosso conjunto\n",
    "df_treino = df.iloc[:750] ## determinando os dados para treinamento\n",
    "df_val = df.iloc[750:1000] ## determinando os dados para validacao\n",
    "df_teste = df.iloc[1000:] ## determinando os dados para teste"
   ]
  },
  {
   "cell_type": "markdown",
   "metadata": {},
   "source": [
    "Em redes neurais trabalhamos geralmente com tres conjuntos de dados.\n",
    "\n",
    "1. ***Treino***: e o conjunto que vamos utilizar para treinar a nossa rede neural, assim como treinamos nosso regressor linear nas outras aulas.\n",
    "1. ***Validacao***: e o conjunto que vamos utilizar para checar quao boa nossa rede, ou seja, vamos checar quantos dados do conjunto de validacao nossa rede consegue estimar corretamente.\n",
    "1. ***Teste***: conjunto para os quais nao conhecemos o alvo, y, e queremos estima-los com nossa rede"
   ]
  },
  {
   "cell_type": "markdown",
   "metadata": {},
   "source": [
    "Note que apesar de que aqui nos conhecemos os **y** para os dados no conjunto de Teste, estamos utilizando essa notacao para nos familiarizarmos com as ideias."
   ]
  },
  {
   "cell_type": "markdown",
   "metadata": {},
   "source": [
    "A seguir vamos receber agora os valores de nossos conjuntos, a propriedade **values** retorna uma matriz em **numpy** com os valores numericos de nossos conjuntos. \n",
    "\n",
    "**Breve explicacao da indexagem(??)**: Em python quando utilizamos -1 para acessar algum index, estamos na realidade acessando o ulitmo index, entao, se tivermos um vetor **v** = [0, 2, 4, 6, 8], entao v[-1] = 8, v[-2] = 6 e assim por diante. Como este assunto foi coberto em outras aulas vamos continuar."
   ]
  },
  {
   "cell_type": "code",
   "execution_count": 6,
   "metadata": {},
   "outputs": [],
   "source": [
    "x_treino, y_treino = df_treino.iloc[:, :-1].values, df_treino.iloc[:,-1].values\n",
    "x_val, y_val = df_val.iloc[:, :-1].values, df_val.iloc[:,-1].values\n",
    "x_teste, y_teste = df_teste.iloc[:, :-1].values, df_teste.iloc[:,-1].values"
   ]
  },
  {
   "cell_type": "code",
   "execution_count": 7,
   "metadata": {},
   "outputs": [
    {
     "data": {
      "text/plain": [
       "((750, 2), (750,))"
      ]
     },
     "execution_count": 7,
     "metadata": {},
     "output_type": "execute_result"
    }
   ],
   "source": [
    "x_treino.shape, y_treino.shape"
   ]
  },
  {
   "cell_type": "markdown",
   "metadata": {},
   "source": [
    "Certo, agora que temos os conjuntos vamos comecar escrevendo nossa rede neural, na [Aula 6](https://github.com/israelcamp/AulasPython/tree/master/Aula6) coloquei links sobre redes neurais, nas aulas presenciais tambem foi explicado como elas funcionam."
   ]
  },
  {
   "cell_type": "markdown",
   "metadata": {},
   "source": [
    "Vamos comecar definindo alguns parametros da nossa rede"
   ]
  },
  {
   "cell_type": "code",
   "execution_count": 8,
   "metadata": {},
   "outputs": [],
   "source": [
    "n = 2 ## dimensao do nosso vetor de entrada (x1, x2)\n",
    "nos = 10 ## quantidade de nos escondidos da nossa rede neural\n",
    "nc = 1 ## quantidade de nos de saida"
   ]
  },
  {
   "cell_type": "markdown",
   "metadata": {},
   "source": [
    "Como so temos duas classes possiveis para cada amostra, 0 ou 1, vamos utilizar somente um no de saida. A seguir vamos inicializar aletoriamente as matrizes que guardarao os pesos de nossa rede. "
   ]
  },
  {
   "cell_type": "code",
   "execution_count": 9,
   "metadata": {},
   "outputs": [],
   "source": [
    "W = np.random.rand(n, nos) ## matriz que guarda os vetores da camada de entrada para a camada escondida\n",
    "b = np.random.rand(nos) ## vetor que ira guardar os biases da camada de entrada ate a camada escondida\n",
    "V = np.random.rand(nos, nc) ## matriz, neste caso vetor, que guarda os pesos da camada escondida para a de saida"
   ]
  },
  {
   "cell_type": "markdown",
   "metadata": {},
   "source": [
    "Com as matrizes vamos escrever uma funcao que dado a vetor de entrada, amostra, nos devolve a predica da nossa rede"
   ]
  },
  {
   "cell_type": "code",
   "execution_count": 10,
   "metadata": {},
   "outputs": [],
   "source": [
    "def predict(x):\n",
    "    S = np.dot(x, W) + b\n",
    "    return np.dot(S, V)"
   ]
  },
  {
   "cell_type": "markdown",
   "metadata": {},
   "source": [
    "Vamos checar que esta funcionando passando a primeira linha de nossa matriz de treino"
   ]
  },
  {
   "cell_type": "code",
   "execution_count": 12,
   "metadata": {},
   "outputs": [
    {
     "name": "stdout",
     "output_type": "stream",
     "text": [
      "Predicao [2.92214074], para alvo 1.0\n"
     ]
    }
   ],
   "source": [
    "yb = predict(x_treino[0])\n",
    "print(f'Predicao {yb}, para alvo {y_treino[0]}')"
   ]
  },
  {
   "cell_type": "markdown",
   "metadata": {},
   "source": [
    "Funciona e apesar de estarmos longe do valor real 1, nossa rede na verdade classificou corretamente esta amostra, pois como vimos na [Aula 7](https://github.com/israelcamp/AulasPython/tree/master/Aula7), vamos considerar valores maiores que 0.5 como pertencentes a classe 1 e menor que 0.5 a classe 0. Vamos entao escrever uma funcao que nos diga o quao correta nossa rede e para algumas amostras, neste caso vamos utilizar o conjunto de validacao."
   ]
  },
  {
   "cell_type": "code",
   "execution_count": 13,
   "metadata": {},
   "outputs": [],
   "source": [
    "def acuracia(x, y):\n",
    "    yb = predict(x)\n",
    "    yb = 1. * (yb > 0.5)\n",
    "    return sum(yb == y)/len(y)"
   ]
  },
  {
   "cell_type": "markdown",
   "metadata": {},
   "source": [
    "Vamos parar um pouco para entender o que esta acontecendo dentro desta funcao. Primeiramente, como vimos **predict** vai nos retornar a predicao para o **x** dado, note que predict pode receber tanto vetores quanto matrizes."
   ]
  },
  {
   "cell_type": "code",
   "execution_count": 14,
   "metadata": {},
   "outputs": [
    {
     "name": "stdout",
     "output_type": "stream",
     "text": [
      "(1,) (250, 1)\n"
     ]
    }
   ],
   "source": [
    "print(predict(x_val[0]).shape, predict(x_val).shape)"
   ]
  },
  {
   "cell_type": "markdown",
   "metadata": {},
   "source": [
    "Segundo, como vimos os valores de **y** que vem dos nossos conjuntos assumem somente os valores de 0 e 1, logo, precisamos converter o valor retornado por predict para 0 ou 1 utilizando 0.5 como threshold."
   ]
  },
  {
   "cell_type": "code",
   "execution_count": 16,
   "metadata": {},
   "outputs": [
    {
     "name": "stdout",
     "output_type": "stream",
     "text": [
      "Valores estimandos \n",
      " [[ 6.23735367]\n",
      " [ 3.9896492 ]\n",
      " [ 1.40702917]\n",
      " [ 4.54129165]\n",
      " [-0.07080787]\n",
      " [ 4.05792792]\n",
      " [ 4.47505396]\n",
      " [ 6.10900086]\n",
      " [ 4.93566326]\n",
      " [ 2.34905737]]\n",
      "Quais sao maiores que 0.5? \n",
      " [[ True]\n",
      " [ True]\n",
      " [ True]\n",
      " [ True]\n",
      " [False]\n",
      " [ True]\n",
      " [ True]\n",
      " [ True]\n",
      " [ True]\n",
      " [ True]]\n",
      "Classificando os estimados\n",
      " [[1]\n",
      " [1]\n",
      " [1]\n",
      " [1]\n",
      " [0]\n",
      " [1]\n",
      " [1]\n",
      " [1]\n",
      " [1]\n",
      " [1]]\n"
     ]
    }
   ],
   "source": [
    "algunsy = predict(x_val[:10]) ## estimando 10 linhas\n",
    "print('Valores estimandos \\n', algunsy)\n",
    "print('Quais sao maiores que 0.5? \\n', algunsy > 0.5)\n",
    "algunsy = 1 * (algunsy > 0.5)\n",
    "print('Classificando os estimados\\n',algunsy)"
   ]
  },
  {
   "cell_type": "markdown",
   "metadata": {},
   "source": [
    "Vamos entao receber a acuracia da nossa rede no conjunto de validacao"
   ]
  },
  {
   "cell_type": "code",
   "execution_count": 18,
   "metadata": {},
   "outputs": [
    {
     "name": "stdout",
     "output_type": "stream",
     "text": [
      "Acuracia na validacao [0.552]\n"
     ]
    }
   ],
   "source": [
    "print('Acuracia na validacao', acuracia(x_val, y_val.reshape(-1,1)))"
   ]
  },
  {
   "cell_type": "markdown",
   "metadata": {},
   "source": [
    "O **reshape** em y_val e necessario pois o valor retornado por predict tem dimensao diferente de y_val (por que?), logo reshape nos permite torna-los iguais. "
   ]
  },
  {
   "cell_type": "code",
   "execution_count": 19,
   "metadata": {},
   "outputs": [],
   "source": [
    "??np.reshape"
   ]
  },
  {
   "cell_type": "markdown",
   "metadata": {},
   "source": [
    "Vamos terminar esta aula por aqui, na proxima vamos finalmente utilizar os dados no conjunto de treino para treinar nossa rede neural."
   ]
  }
 ],
 "metadata": {
  "kernelspec": {
   "display_name": "Python [conda env:aulaenv]",
   "language": "python",
   "name": "conda-env-aulaenv-py"
  },
  "language_info": {
   "codemirror_mode": {
    "name": "ipython",
    "version": 3
   },
   "file_extension": ".py",
   "mimetype": "text/x-python",
   "name": "python",
   "nbconvert_exporter": "python",
   "pygments_lexer": "ipython3",
   "version": "3.7.0"
  }
 },
 "nbformat": 4,
 "nbformat_minor": 2
}
