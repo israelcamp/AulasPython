{
 "cells": [
  {
   "cell_type": "markdown",
   "metadata": {},
   "source": [
    "### Aula 2 - Recapitulação da Aula 1\n"
   ]
  },
  {
   "cell_type": "markdown",
   "metadata": {},
   "source": [
    "Na aula passada vimos como criar uma lista. Vamos agora ver como podemos fazer as listas de outra forma. Lmebrando que queriamos encontrar por exemplo os divisores de 220 e depois somalos, podemos escrever então: "
   ]
  },
  {
   "cell_type": "code",
   "execution_count": 1,
   "metadata": {},
   "outputs": [
    {
     "name": "stdout",
     "output_type": "stream",
     "text": [
      "[1, 2, 4, 5, 10, 11, 20, 22, 44, 55, 110]\n"
     ]
    }
   ],
   "source": [
    "n = 220\n",
    "divisores = [i for i in range(1, n//2 +1) if n % i == 0]\n",
    "print(divisores)"
   ]
  },
  {
   "cell_type": "markdown",
   "metadata": {},
   "source": [
    "Note que podemos passar alguns condicionais para a lista, o modo acima, chama-se ***list comprehension***.\n",
    "E então a soma dos divisores é:"
   ]
  },
  {
   "cell_type": "code",
   "execution_count": 2,
   "metadata": {},
   "outputs": [
    {
     "name": "stdout",
     "output_type": "stream",
     "text": [
      "284\n"
     ]
    }
   ],
   "source": [
    "print(sum(divisores))"
   ]
  },
  {
   "cell_type": "markdown",
   "metadata": {},
   "source": [
    "Ou ainda, de forma direta: "
   ]
  },
  {
   "cell_type": "code",
   "execution_count": 3,
   "metadata": {},
   "outputs": [
    {
     "name": "stdout",
     "output_type": "stream",
     "text": [
      "284\n"
     ]
    }
   ],
   "source": [
    "print(sum([i for i in range(1, n//2 +1) if n % i == 0]))"
   ]
  },
  {
   "cell_type": "markdown",
   "metadata": {},
   "source": [
    "### Funções:\n",
    "Antes de continuar vamos ver como podemos usar funções quando não sabemos o número de argumentos que iremos receber. Defina então:"
   ]
  },
  {
   "cell_type": "code",
   "execution_count": 4,
   "metadata": {},
   "outputs": [],
   "source": [
    "def printa_argumentos(*args):\n",
    "    for a in args:\n",
    "        print(a, end=',')"
   ]
  },
  {
   "cell_type": "code",
   "execution_count": 5,
   "metadata": {},
   "outputs": [
    {
     "name": "stdout",
     "output_type": "stream",
     "text": [
      "oi,10,20,tchay,"
     ]
    }
   ],
   "source": [
    "printa_argumentos('oi', 10, 20, 'tchay')"
   ]
  },
  {
   "cell_type": "markdown",
   "metadata": {},
   "source": [
    "Funções podem ter ainda alguns parâmetros pré-definidos. No exemplo abaixo se não passamos o valor de **y** a função vai utilizar aquele já pré-definido."
   ]
  },
  {
   "cell_type": "code",
   "execution_count": 8,
   "metadata": {},
   "outputs": [
    {
     "name": "stdout",
     "output_type": "stream",
     "text": [
      "4 -- 6 -- 8\n"
     ]
    }
   ],
   "source": [
    "def mult_y(x, y=2):\n",
    "    return x * y\n",
    "print(mult_y(2), mult_y(2, y=3), mult_y(2, 4),sep=' -- ')"
   ]
  },
  {
   "cell_type": "markdown",
   "metadata": {},
   "source": [
    "**y** neste caso é visto como uma chave com algum valor correspondente. No caso abaixo, vamos ter uma função que não sabe quais chaves serão passadas, se a chave é passada o valor é utilizado, caso não seja passada, então um valor é definido. "
   ]
  },
  {
   "cell_type": "code",
   "execution_count": 9,
   "metadata": {},
   "outputs": [],
   "source": [
    "def mult_y_2(x, **kwargs):\n",
    "    try:\n",
    "        y = kwargs['y']\n",
    "    except KeyError:\n",
    "        y = 1\n",
    "    return x * y"
   ]
  },
  {
   "cell_type": "code",
   "execution_count": 10,
   "metadata": {},
   "outputs": [
    {
     "name": "stdout",
     "output_type": "stream",
     "text": [
      "2 -- 9\n"
     ]
    }
   ],
   "source": [
    "print(mult_y_2(2), mult_y_2(3, y=3), sep=' -- ')"
   ]
  },
  {
   "cell_type": "markdown",
   "metadata": {},
   "source": [
    "***kwargs*** podem ser visto como dicionários e ***args*** como listas. Dicionários foram introduzidos nesta aula. Cheque os outros notebooks."
   ]
  }
 ],
 "metadata": {
  "kernelspec": {
   "display_name": "Python [conda env:miniconda3]",
   "language": "python",
   "name": "conda-env-miniconda3-py"
  },
  "language_info": {
   "codemirror_mode": {
    "name": "ipython",
    "version": 3
   },
   "file_extension": ".py",
   "mimetype": "text/x-python",
   "name": "python",
   "nbconvert_exporter": "python",
   "pygments_lexer": "ipython3",
   "version": "3.6.5"
  }
 },
 "nbformat": 4,
 "nbformat_minor": 2
}
