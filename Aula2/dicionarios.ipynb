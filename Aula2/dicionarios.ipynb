{
 "cells": [
  {
   "cell_type": "markdown",
   "metadata": {},
   "source": [
    "# Aula 2 - Dicionários"
   ]
  },
  {
   "cell_type": "markdown",
   "metadata": {},
   "source": [
    "Dicionários podem ser inicializados com {}, num dicionário exciplitamos algumas chaves (ints ou strings) que estão associados a algum objeto (numérico, função, classe, lista, etc...)"
   ]
  },
  {
   "cell_type": "code",
   "execution_count": 1,
   "metadata": {},
   "outputs": [],
   "source": [
    "my_dict = {}"
   ]
  },
  {
   "cell_type": "markdown",
   "metadata": {},
   "source": [
    "Acima iniciamos um dicionário vazio, agora se queremos adicionar uma chave no dicionário, podems fazer simplesmente:"
   ]
  },
  {
   "cell_type": "code",
   "execution_count": 2,
   "metadata": {},
   "outputs": [],
   "source": [
    "my_dict['alguma_chave'] = 10"
   ]
  },
  {
   "cell_type": "code",
   "execution_count": 3,
   "metadata": {},
   "outputs": [
    {
     "name": "stdout",
     "output_type": "stream",
     "text": [
      "{'alguma_chave': 10}\n"
     ]
    }
   ],
   "source": [
    "print(my_dict)"
   ]
  },
  {
   "cell_type": "markdown",
   "metadata": {},
   "source": [
    "Podemos olhar ainda o dir de nosso dicionário para ver os funções que são implementadas. Escreva dir(my_dict) e explore. Por agora vamos considerar um simples problema, dada uma lista de alunos associados a alguns valores. Queremos sabemos quem tem o menor valor associado, o segundo menor e assim por diante. Se você olhar o dir de uma dicionário verá que não há função sort implementada, mas uma lista tem, vamos então passar os valores de um dicionário para uma lista, para isto temos uma função chamada **items**."
   ]
  },
  {
   "cell_type": "code",
   "execution_count": 3,
   "metadata": {},
   "outputs": [
    {
     "name": "stdout",
     "output_type": "stream",
     "text": [
      "[('omitto', -1), ('du', 50), ('julia', 20), ('sinara', 10), ('v', 3)]\n"
     ]
    }
   ],
   "source": [
    "alunos = {'sinara':10, 'julia':20, 'du':50, 'v':3, 'omitto':-1}\n",
    "lista_alunos = alunos.items()\n",
    "print(lista_alunos)"
   ]
  },
  {
   "cell_type": "code",
   "execution_count": 4,
   "metadata": {},
   "outputs": [
    {
     "name": "stdout",
     "output_type": "stream",
     "text": [
      "[('du', 50), ('julia', 20), ('omitto', -1), ('sinara', 10), ('v', 3)]\n"
     ]
    }
   ],
   "source": [
    "lista_alunos.sort()\n",
    "print(lista_alunos)"
   ]
  },
  {
   "cell_type": "markdown",
   "metadata": {},
   "source": [
    "O método **sort** colocou a lista em ordem usando o primeiro elemento de cada tupla como referência, ou seja, nossa lista agora está em ordem alfabética, o que pode ser útil, mas não é o que queremos. Vamos então criar uma lista cujas tuplas são do tipo **(valor, chave)**.   "
   ]
  },
  {
   "cell_type": "code",
   "execution_count": 5,
   "metadata": {},
   "outputs": [
    {
     "name": "stdout",
     "output_type": "stream",
     "text": [
      "[(-1, 'omitto'), (50, 'du'), (20, 'julia'), (10, 'sinara'), (3, 'v')]\n"
     ]
    }
   ],
   "source": [
    "del lista_alunos #deletando refencia antiga da lista\n",
    "lista_alunos = [(valor, nome) for nome, valor in alunos.items()]\n",
    "print(lista_alunos)"
   ]
  },
  {
   "cell_type": "code",
   "execution_count": 6,
   "metadata": {},
   "outputs": [
    {
     "name": "stdout",
     "output_type": "stream",
     "text": [
      "[(-1, 'omitto'), (3, 'v'), (10, 'sinara'), (20, 'julia'), (50, 'du')]\n"
     ]
    }
   ],
   "source": [
    "lista_alunos.sort()\n",
    "print(lista_alunos)"
   ]
  },
  {
   "cell_type": "markdown",
   "metadata": {},
   "source": [
    "Cuidado ao usar dicionários, o python guarda referência ao local da memória onde o dicionário está, então o seguinte acontece:"
   ]
  },
  {
   "cell_type": "code",
   "execution_count": 8,
   "metadata": {},
   "outputs": [
    {
     "name": "stdout",
     "output_type": "stream",
     "text": [
      "{'omitto': -1, 'leardine': 3, 'julia': 20, 'sinara': 10, 'v': 3, 'du': 50}\n",
      "{'omitto': -1, 'leardine': 3, 'julia': 20, 'sinara': 10, 'v': 3, 'du': 50}\n"
     ]
    }
   ],
   "source": [
    "meus_alunos = alunos\n",
    "meus_alunos['leardine'] = 3\n",
    "print(meus_alunos)\n",
    "print(alunos)"
   ]
  },
  {
   "cell_type": "markdown",
   "metadata": {},
   "source": [
    "Veja como *leardine* é colocado em ambos dicionários, devemos então fazer uma cópia do dicionário antes de cotinuar "
   ]
  },
  {
   "cell_type": "code",
   "execution_count": 9,
   "metadata": {},
   "outputs": [
    {
     "name": "stdout",
     "output_type": "stream",
     "text": [
      "{'bras': 90, 'omitto': -1, 'sinara': 10, 'v': 3, 'leardine': 3, 'du': 50, 'julia': 20}\n",
      "{'omitto': -1, 'leardine': 3, 'julia': 20, 'sinara': 10, 'v': 3, 'du': 50}\n"
     ]
    }
   ],
   "source": [
    "meus_alunos_2 = alunos.copy()\n",
    "meus_alunos_2['bras'] = 90\n",
    "print(meus_alunos_2)\n",
    "print(alunos)"
   ]
  },
  {
   "cell_type": "markdown",
   "metadata": {},
   "source": [
    "Vamos escrever uma função agora que retorna o valor do aluno que procurarmos caso esse exista, e retorna um aviso caso não esteja no dicionário."
   ]
  },
  {
   "cell_type": "code",
   "execution_count": 11,
   "metadata": {},
   "outputs": [
    {
     "name": "stdout",
     "output_type": "stream",
     "text": [
      "50\n",
      "Aluno nao encontrado\n"
     ]
    }
   ],
   "source": [
    "def procura(nome, alunos):\n",
    "    if nome in alunos:\n",
    "        return alunos[nome]\n",
    "    else:\n",
    "        return 'Aluno nao encontrado'\n",
    "print(procura('du', alunos))\n",
    "print(procura('tomeo', alunos))"
   ]
  },
  {
   "cell_type": "code",
   "execution_count": 35,
   "metadata": {},
   "outputs": [
    {
     "name": "stdout",
     "output_type": "stream",
     "text": [
      "Aluno \"du\" com valor 50 encontrado\n",
      "Aluno \"sinara\" com valor 10 encontrado\n",
      "Aluno \"julia\" com valor 20 encontrado\n",
      "Aluno \"tomeo\" nao encontrado\n"
     ]
    },
    {
     "name": "stderr",
     "output_type": "stream",
     "text": [
      "<ipython-input-35-02185ee976cb>:5: SyntaxWarning: name 'alunos' is assigned to before global declaration\n",
      "  global alunos\n"
     ]
    }
   ],
   "source": [
    "def procura_varios(*nomes, **kwargs):\n",
    "    try:\n",
    "        alunos = kwargs['alunos']\n",
    "    except KeyError:\n",
    "       global alunos\n",
    "        \n",
    "    for n in nomes:\n",
    "        if n in alunos:\n",
    "            print('Aluno \"{}\" com valor {} encontrado'.format(n, alunos[n]))\n",
    "        else:\n",
    "            print('Aluno \"{}\" nao encontrado'.format(n))\n",
    "procura_varios('du', 'sinara', 'julia', 'tomeo', alunos=alunos)"
   ]
  },
  {
   "cell_type": "markdown",
   "metadata": {},
   "source": [
    "Ignore este aviso no fim, não nada de errado, que eu saiba."
   ]
  }
 ],
 "metadata": {
  "kernelspec": {
   "display_name": "Python [conda env:pyt0.2]",
   "language": "python",
   "name": "conda-env-pyt0.2-py"
  },
  "language_info": {
   "codemirror_mode": {
    "name": "ipython",
    "version": 2
   },
   "file_extension": ".py",
   "mimetype": "text/x-python",
   "name": "python",
   "nbconvert_exporter": "python",
   "pygments_lexer": "ipython2",
   "version": "2.7.15"
  }
 },
 "nbformat": 4,
 "nbformat_minor": 2
}
