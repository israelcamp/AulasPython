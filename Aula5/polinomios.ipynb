{
 "cells": [
  {
   "cell_type": "markdown",
   "metadata": {},
   "source": [
    "# Aula 5 - Polinomio"
   ]
  },
  {
   "cell_type": "markdown",
   "metadata": {},
   "source": [
    "## Entendendo as funcoes"
   ]
  },
  {
   "cell_type": "markdown",
   "metadata": {},
   "source": [
    "O intuito desta aula e escrever um arquivo **.py** contendo a implementacao de uma classe chamada ***Polinomio***, nela definiremos funcoes como somar dois polinomios, avaliar em um ponto e etc. Vamos comecar primeiramente fazendo as funcoes funcionarem."
   ]
  },
  {
   "cell_type": "markdown",
   "metadata": {},
   "source": [
    "Comecamos definindo como iremos receber os coeficientes do polinomio, irei utilizar listas ou tuplas e le-las da esquerda para a direita, ou seja;\n",
    "\n",
    "* [1, 2, 4] = 1 + 2x + 4x^2\n",
    "* [1, 0, 0, 1] = 1 + x^3\n",
    "\n",
    "Vamos entao comecar escrevendo uma funcao que determine o tamanho, grau, do polinomio"
   ]
  },
  {
   "cell_type": "code",
   "execution_count": 1,
   "metadata": {},
   "outputs": [],
   "source": [
    "p1 = [1, 2, 4]\n",
    "p2 = [1, 0, 0, 1]"
   ]
  },
  {
   "cell_type": "markdown",
   "metadata": {},
   "source": [
    "Para nos auxiliar vamos escrever um funcao que cause um erro caso o polinomio passado seja invalido"
   ]
  },
  {
   "cell_type": "code",
   "execution_count": 2,
   "metadata": {},
   "outputs": [],
   "source": [
    "def is_valid_polinomial(p):\n",
    "    assert isinstance(p, list), 'Por favor passe os coeficientes em uma lista'\n",
    "    assert all([type(coef) in [int, float] for coef in p]), 'Todos elementos da lista devem ser inteiro ou floats'"
   ]
  },
  {
   "cell_type": "code",
   "execution_count": 3,
   "metadata": {},
   "outputs": [],
   "source": [
    "def grau_polinomio(p):\n",
    "    is_valid_polinomial(p)\n",
    "    return len(p)-1\n",
    "    "
   ]
  },
  {
   "cell_type": "code",
   "execution_count": 4,
   "metadata": {},
   "outputs": [
    {
     "name": "stdout",
     "output_type": "stream",
     "text": [
      "2\n"
     ]
    }
   ],
   "source": [
    "print(grau_polinomio(p1))"
   ]
  },
  {
   "cell_type": "markdown",
   "metadata": {},
   "source": [
    "OK. Vamos lembrar que o grau do polinomio e seu tamanho menos 1, sabendo disso podemos escrever a funcao que soma os dois polinomios"
   ]
  },
  {
   "cell_type": "code",
   "execution_count": 5,
   "metadata": {},
   "outputs": [],
   "source": [
    "def soma_polinomios(p1, p2):\n",
    "    is_valid_polinomial(p1) # checando se p1 e valido\n",
    "    is_valid_polinomial(p2) # checando se p2 e valido\n",
    "    \n",
    "    menor_polinomio = p1.copy() if len(p1) < len(p2) else p2.copy() # guardando o menor polinomio\n",
    "    menor_polinomio += abs(len(p1) - len(p2))*[0] # adicionando zeros no menor polinomio\n",
    "    maior_polinomio = p2 if len(p2) > len(p1) else p1 #guardando o maior polinomio\n",
    "    return [x + y for x,y in zip(maior_polinomio, menor_polinomio)]"
   ]
  },
  {
   "cell_type": "code",
   "execution_count": 6,
   "metadata": {},
   "outputs": [
    {
     "name": "stdout",
     "output_type": "stream",
     "text": [
      "[2, 2, 4, 1]\n"
     ]
    }
   ],
   "source": [
    "print(soma_polinomios(p1, p2))"
   ]
  },
  {
   "cell_type": "markdown",
   "metadata": {},
   "source": [
    "Vamos agora definir uma funcao que avalie o funcao em algum dado valor **x**."
   ]
  },
  {
   "cell_type": "code",
   "execution_count": 7,
   "metadata": {},
   "outputs": [],
   "source": [
    "def avalia_polinomio(p, x):\n",
    "    return sum([coef * (x**i) for i, coef in enumerate(p)])"
   ]
  },
  {
   "cell_type": "code",
   "execution_count": 8,
   "metadata": {},
   "outputs": [
    {
     "name": "stdout",
     "output_type": "stream",
     "text": [
      "421\n"
     ]
    }
   ],
   "source": [
    "print(avalia_polinomio(p1, 10))"
   ]
  },
  {
   "cell_type": "markdown",
   "metadata": {},
   "source": [
    "Por fim vamos escrever uma funcao que retorne uma string representando o polinomio"
   ]
  },
  {
   "cell_type": "code",
   "execution_count": 9,
   "metadata": {},
   "outputs": [],
   "source": [
    "def string_polinomio(p):\n",
    "    return ' + '.join([f'{coef}x^{i}' for i, coef in enumerate(p) if coef != 0])"
   ]
  },
  {
   "cell_type": "code",
   "execution_count": 10,
   "metadata": {},
   "outputs": [
    {
     "name": "stdout",
     "output_type": "stream",
     "text": [
      "1x^0 + 2x^1 + 4x^2\n"
     ]
    }
   ],
   "source": [
    "print(string_polinomio(p1))"
   ]
  },
  {
   "cell_type": "code",
   "execution_count": 11,
   "metadata": {},
   "outputs": [
    {
     "name": "stdout",
     "output_type": "stream",
     "text": [
      "1x^0 + 1x^3\n"
     ]
    }
   ],
   "source": [
    "print(string_polinomio(p2))"
   ]
  },
  {
   "cell_type": "markdown",
   "metadata": {},
   "source": [
    "Temos tudo o que precisamos para implementar nossa classe ***Polinomio*** iremos fazer somente algumas alteracoes nos nomes das funcoes para funcionarem de um jeito mais pythonico."
   ]
  },
  {
   "cell_type": "markdown",
   "metadata": {},
   "source": [
    "## Escrevendo a classe"
   ]
  },
  {
   "cell_type": "markdown",
   "metadata": {},
   "source": [
    "Vou mostrar como a classe fica e ir analisando as componentes posteriormente."
   ]
  },
  {
   "cell_type": "code",
   "execution_count": 12,
   "metadata": {},
   "outputs": [],
   "source": [
    "class Polinomio:\n",
    "    \n",
    "    def __init__(self, *coefs):\n",
    "        self.__is_valid(list(coefs)) # ira gerar assertion erro caso seja invalido\n",
    "        self.coefs = list(coefs) # guardando os coeficientes do polinomio\n",
    "        \n",
    "    def __len__(self):\n",
    "        return len(self.coefs) - 1\n",
    "    \n",
    "    def __str__(self):\n",
    "        return ' + '.join([f'{coef}x^{i}' for i, coef in enumerate(self.coefs) if coef != 0])\n",
    "        \n",
    "    def __add__(self, p):\n",
    "        assert isinstance(p, Polinomio), 'Soma so permitida entre dois Polinomios'\n",
    "        menor_polinomio = self.coefs.copy() if len(self) < len(p) else p.coefs.copy()\n",
    "        menor_polinomio += abs(len(self) - len(p))*[0]\n",
    "        maior_polinomio = self.coefs if len(self) > len(p) else p.coefs\n",
    "        return Polinomio(*[x + y for x,y in zip(maior_polinomio, menor_polinomio)])\n",
    "        \n",
    "    def __call__(self, x):\n",
    "        assert type(x) in [int, float], 'Passe inteiro ou float'\n",
    "        return sum([coef * (x**i) for i, coef in enumerate(self.coefs)])\n",
    "        \n",
    "    def __is_valid(self, coefs):\n",
    "        assert isinstance(coefs, list), 'Por favor passe os coeficientes em uma lista'\n",
    "        assert all([type(coef) in [int, float] for coef in coefs]), 'Todos elementos da lista devem ser inteiro ou floats'"
   ]
  },
  {
   "cell_type": "markdown",
   "metadata": {},
   "source": [
    "Vamos comecar criando dois objetos da classe ***Polinomio*** a partir dos dois polinomios que escrevemos acima, para isso vamos definir uma funcao **init**, veja que nossa funcao **init** recebe argumentos, podemos iniciar um polinomio fazendo por exemplo ***p = Polinomio(1, 2, 3, 4)***, porem estamos passando uma lista, logo adicionamos o * ao lado do nome da nossa lista para que seus elementos sejam desempacotados, para mais informacoes sobre isto refira-se a [Aula 4](https://github.com/israelcamp/AulasPython/tree/master/Aula4)"
   ]
  },
  {
   "cell_type": "code",
   "execution_count": 13,
   "metadata": {},
   "outputs": [],
   "source": [
    "pol1 = Polinomio(*p1)\n",
    "pol2 = Polinomio(*p2)"
   ]
  },
  {
   "cell_type": "markdown",
   "metadata": {},
   "source": [
    "Vemos abaixo que os coeficients foram salvos em forma de lista como queriamos."
   ]
  },
  {
   "cell_type": "code",
   "execution_count": 14,
   "metadata": {},
   "outputs": [
    {
     "data": {
      "text/plain": [
       "([1, 2, 4], [1, 0, 0, 1])"
      ]
     },
     "execution_count": 14,
     "metadata": {},
     "output_type": "execute_result"
    }
   ],
   "source": [
    "pol1.coefs, pol2.coefs"
   ]
  },
  {
   "cell_type": "markdown",
   "metadata": {},
   "source": [
    "Vamos agora somar dois polinomios, em python podemos definir como a soma entre elementos de uma classe funciona ao definir a funcao **add**, assim como definimos qual o tamanho de nosso polinomio ao definir a funcao **len** e por fim definimos a string que representa nosso polinomio ao escrever a funcao **str**."
   ]
  },
  {
   "cell_type": "code",
   "execution_count": 15,
   "metadata": {},
   "outputs": [
    {
     "name": "stdout",
     "output_type": "stream",
     "text": [
      "2x^0 + 2x^1 + 4x^2 + 1x^3\n"
     ]
    }
   ],
   "source": [
    "pol3 = pol1 + pol2\n",
    "print(pol3)"
   ]
  },
  {
   "cell_type": "markdown",
   "metadata": {},
   "source": [
    "E for fim definimos a funcao **call** que ira avaliar o polinomio no numero dado, com esta funcao podemos definir o que fazer quando chamamos nosso objeto, ou seja, quando passamos obj(* args,** kwargs)"
   ]
  },
  {
   "cell_type": "code",
   "execution_count": 16,
   "metadata": {},
   "outputs": [
    {
     "name": "stdout",
     "output_type": "stream",
     "text": [
      "138\n"
     ]
    }
   ],
   "source": [
    "print(pol3(4))"
   ]
  }
 ],
 "metadata": {
  "kernelspec": {
   "display_name": "Python [conda env:kaggle]",
   "language": "python",
   "name": "conda-env-kaggle-py"
  },
  "language_info": {
   "codemirror_mode": {
    "name": "ipython",
    "version": 3
   },
   "file_extension": ".py",
   "mimetype": "text/x-python",
   "name": "python",
   "nbconvert_exporter": "python",
   "pygments_lexer": "ipython3",
   "version": "3.6.6"
  }
 },
 "nbformat": 4,
 "nbformat_minor": 2
}
