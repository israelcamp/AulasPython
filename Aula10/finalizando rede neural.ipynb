{
 "cells": [
  {
   "cell_type": "markdown",
   "metadata": {},
   "source": [
    "# Aula 10 - Finalizando a Rede Neural"
   ]
  },
  {
   "cell_type": "code",
   "execution_count": 1,
   "metadata": {},
   "outputs": [],
   "source": [
    "import pandas as pd \n",
    "import numpy as np"
   ]
  },
  {
   "cell_type": "code",
   "execution_count": 2,
   "metadata": {},
   "outputs": [],
   "source": [
    "df = pd.read_csv('../Aula8/ripley.csv')\n",
    "df = df.sample(frac=1).reset_index(drop=True) \n",
    "\n",
    "df_treino = df.iloc[:750] \n",
    "df_val = df.iloc[750:1000]\n",
    "df_teste = df.iloc[1000:] \n",
    "\n",
    "x_treino, y_treino = df_treino.iloc[:, :-1].values, df_treino.iloc[:,-1].values\n",
    "x_val, y_val = df_val.iloc[:, :-1].values, df_val.iloc[:,-1].values\n",
    "x_teste, y_teste = df_teste.iloc[:, :-1].values, df_teste.iloc[:,-1].values\n",
    "\n",
    "n = 2 \n",
    "nos = 10\n",
    "nc = 1 \n",
    "lr = 1e-2\n",
    "\n",
    "W = np.random.rand(n, nos) \n",
    "bw = np.random.rand(nos) \n",
    "V = np.random.rand(nos, nc) \n",
    "bv = np.random.rand(nc)\n",
    "\n",
    "def predict(x):\n",
    "    S = np.dot(x, W) + bw\n",
    "    H = relu(S)\n",
    "    y = sigmoid(np.dot(S, V) + bv)\n",
    "    return {'prediction': y, 'linear_comb': S, 'activation': H}\n",
    "\n",
    "def acuracia(x, y):\n",
    "    yb = predict(x)['prediction']\n",
    "    yb = 1. * (yb > 0.5)\n",
    "    \n",
    "    return sum(yb == y)/len(y)\n",
    "\n",
    "def relu(x):\n",
    "    return x * (x > 0)\n",
    "\n",
    "def grad_relu(x):\n",
    "    return 1. * (x > 0)\n",
    "\n",
    "def sigmoid(x):\n",
    "    return 1. / (1. + np.exp(-x))"
   ]
  },
  {
   "cell_type": "code",
   "execution_count": 8,
   "metadata": {},
   "outputs": [
    {
     "name": "stdout",
     "output_type": "stream",
     "text": [
      "Epoca[1/25] Val Acc [0.484]\n",
      "Epoca[2/25] Val Acc [0.72]\n",
      "Epoca[3/25] Val Acc [0.676]\n",
      "Epoca[4/25] Val Acc [0.672]\n",
      "Epoca[5/25] Val Acc [0.696]\n",
      "Epoca[6/25] Val Acc [0.72]\n",
      "Epoca[7/25] Val Acc [0.744]\n",
      "Epoca[8/25] Val Acc [0.764]\n",
      "Epoca[9/25] Val Acc [0.784]\n",
      "Epoca[10/25] Val Acc [0.804]\n",
      "Epoca[11/25] Val Acc [0.812]\n",
      "Epoca[12/25] Val Acc [0.84]\n",
      "Epoca[13/25] Val Acc [0.86]\n",
      "Epoca[14/25] Val Acc [0.876]\n",
      "Epoca[15/25] Val Acc [0.884]\n",
      "Epoca[16/25] Val Acc [0.884]\n",
      "Epoca[17/25] Val Acc [0.888]\n",
      "Epoca[18/25] Val Acc [0.892]\n",
      "Epoca[19/25] Val Acc [0.892]\n",
      "Epoca[20/25] Val Acc [0.9]\n",
      "Epoca[21/25] Val Acc [0.9]\n",
      "Epoca[22/25] Val Acc [0.896]\n",
      "Epoca[23/25] Val Acc [0.9]\n",
      "Epoca[24/25] Val Acc [0.904]\n",
      "Epoca[25/25] Val Acc [0.904]\n"
     ]
    }
   ],
   "source": [
    "for ep in range(25):\n",
    "    for i in range(len(x_treino)):\n",
    "        pred = predict(x_treino[i])\n",
    "\n",
    "        yb = pred['prediction'][0]\n",
    "        grad_sigmoid = yb * (1 - yb)\n",
    "        dy = -(y_treino[i] - yb) # (yb - y)\n",
    "\n",
    "        \n",
    "        V = V - lr * dy * grad_sigmoid * pred['activation'].reshape(-1,1)\n",
    "        bv = bv - lr * dy * grad_sigmoid\n",
    "        \n",
    "        W = W - lr * np.dot(x_treino[i].reshape(-1,1), grad_relu(pred['linear_comb']).reshape(1,-1)) *\\\n",
    "                            (grad_sigmoid * dy * V.T)\n",
    "        bw = bw - lr * dy * V.reshape(-1) * grad_relu(pred['linear_comb']).reshape(-1) * grad_sigmoid\n",
    "        \n",
    "\n",
    "    print(f'Epoca[{ep+1}/25] Val Acc {acuracia(x_val, y_val.reshape(-1,1))}')"
   ]
  },
  {
   "cell_type": "code",
   "execution_count": 9,
   "metadata": {},
   "outputs": [],
   "source": [
    "import matplotlib.pyplot as plt\n",
    "%matplotlib inline"
   ]
  },
  {
   "cell_type": "code",
   "execution_count": 10,
   "metadata": {},
   "outputs": [],
   "source": [
    "x_zeros = x_treino[y_treino == 0.]\n",
    "x_uns = x_treino[y_treino == 1.]"
   ]
  },
  {
   "cell_type": "code",
   "execution_count": 11,
   "metadata": {},
   "outputs": [],
   "source": [
    "x, y = np.meshgrid(np.linspace(-1,1,1000), np.linspace(-1,1,1000))\n",
    "xy = np.array([x.flatten(),y.flatten()]).T"
   ]
  },
  {
   "cell_type": "code",
   "execution_count": 12,
   "metadata": {},
   "outputs": [],
   "source": [
    "yt = predict(xy)['prediction']\n",
    "xy = xy[np.abs(yt[:,0] - 0.5) < 0.0005]"
   ]
  },
  {
   "cell_type": "code",
   "execution_count": 13,
   "metadata": {},
   "outputs": [
    {
     "data": {
      "text/plain": [
       "<matplotlib.collections.PathCollection at 0x7f19ec819a90>"
      ]
     },
     "execution_count": 13,
     "metadata": {},
     "output_type": "execute_result"
    },
    {
     "data": {
      "image/png": "[encoded data removed]",
      "text/plain": [
       "<Figure size 504x504 with 1 Axes>"
      ]
     },
     "metadata": {
      "needs_background": "light"
     },
     "output_type": "display_data"
    }
   ],
   "source": [
    "plt.figure(figsize=(7,7))\n",
    "plt.scatter(x_zeros[:,0], x_zeros[:,1], c='r')\n",
    "plt.scatter(x_uns[:,0], x_uns[:,1], c='g')\n",
    "plt.scatter(xy[:,0], xy[:,1], c='b')"
   ]
  },
  {
   "cell_type": "code",
   "execution_count": null,
   "metadata": {},
   "outputs": [],
   "source": []
  }
 ],
 "metadata": {
  "kernelspec": {
   "display_name": "Python [conda env:kaggle]",
   "language": "python",
   "name": "conda-env-kaggle-py"
  },
  "language_info": {
   "codemirror_mode": {
    "name": "ipython",
    "version": 3
   },
   "file_extension": ".py",
   "mimetype": "text/x-python",
   "name": "python",
   "nbconvert_exporter": "python",
   "pygments_lexer": "ipython3",
   "version": "3.6.6"
  }
 },
 "nbformat": 4,
 "nbformat_minor": 2
}
