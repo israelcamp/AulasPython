{
 "cells": [
  {
   "cell_type": "markdown",
   "metadata": {},
   "source": [
    "## Aula 4 - Dúvidas"
   ]
  },
  {
   "cell_type": "markdown",
   "metadata": {},
   "source": [
    "### Dúvida 1 - Sobre espaços em Python\n",
    "\n",
    "Como vocês já devem ter percebido pelas outras aulas, Python não faz uso de chaves **{}** como C, ao invés disso o código é organizado por identação, assim quando iniciamos um condicional ou um loop, inserimos uma identação no código que queremos que seja executado, por exemplo:"
   ]
  },
  {
   "cell_type": "code",
   "execution_count": 8,
   "metadata": {},
   "outputs": [
    {
     "name": "stdout",
     "output_type": "stream",
     "text": [
      "a /b /a /b /a /b /a /b /a /b /"
     ]
    }
   ],
   "source": [
    "for i in range(5):\n",
    "    print('a ', end='/')\n",
    "    print('b ', end='/')"
   ]
  },
  {
   "cell_type": "code",
   "execution_count": 9,
   "metadata": {},
   "outputs": [
    {
     "name": "stdout",
     "output_type": "stream",
     "text": [
      "a /a /a /a /a /b /"
     ]
    }
   ],
   "source": [
    "for i in range(5):\n",
    "    print('a ', end='/')\n",
    "print('b ', end='/')"
   ]
  },
  {
   "cell_type": "markdown",
   "metadata": {},
   "source": [
    "Veja como no primeiro caso imprimimos **b** 5 vezes, enquanto no segundo caso somente uma, isto porque o level de identação do comando **print** para **b** no primeiro caso diz informa ao python que **b** deve ser impresso para cada vez que contamos um loop, enquanto no segundo caso o loop e printar **b** possuem o mesmo level de identação, logo, o **b** só é impresso após o loop ser terminado.\n",
    "\n",
    "Python não permite diferentes níveis de identação, por isso tome cuidado, por exemplo:"
   ]
  },
  {
   "cell_type": "code",
   "execution_count": 10,
   "metadata": {},
   "outputs": [
    {
     "ename": "IndentationError",
     "evalue": "unexpected indent (<ipython-input-10-8ce668ba15da>, line 3)",
     "output_type": "error",
     "traceback": [
      "\u001b[0;36m  File \u001b[0;32m\"<ipython-input-10-8ce668ba15da>\"\u001b[0;36m, line \u001b[0;32m3\u001b[0m\n\u001b[0;31m    print('b ', end='/')\u001b[0m\n\u001b[0m    ^\u001b[0m\n\u001b[0;31mIndentationError\u001b[0m\u001b[0;31m:\u001b[0m unexpected indent\n"
     ]
    }
   ],
   "source": [
    "for i in range(5):\n",
    "    print('a ', end='/')\n",
    "     print('b ', end='/')"
   ]
  },
  {
   "cell_type": "markdown",
   "metadata": {},
   "source": [
    "Nos retorna um error de identação inesperada. Outro caso em que devemos tomar cuidado são **expressões condicionais**, por exemplo:"
   ]
  },
  {
   "cell_type": "code",
   "execution_count": 11,
   "metadata": {},
   "outputs": [
    {
     "name": "stdout",
     "output_type": "stream",
     "text": [
      "Verdade isso ai\n"
     ]
    }
   ],
   "source": [
    "if 5 < 10:\n",
    "    print('Verdade isso ai')\n",
    "else:\n",
    "    print('Falso')"
   ]
  },
  {
   "cell_type": "markdown",
   "metadata": {},
   "source": [
    "Nesse caso o Python checa se a condição em **if** é verdadeira, caso seja, ele não irá nem preocupar em observar outras condições. Do modo como escrevemos o **else** só ocorre caso **if 5 < 10** seja falso. Se fizermos por exemplo"
   ]
  },
  {
   "cell_type": "code",
   "execution_count": 12,
   "metadata": {},
   "outputs": [
    {
     "ename": "SyntaxError",
     "evalue": "invalid syntax (<ipython-input-12-6ddb1015d6d1>, line 3)",
     "output_type": "error",
     "traceback": [
      "\u001b[0;36m  File \u001b[0;32m\"<ipython-input-12-6ddb1015d6d1>\"\u001b[0;36m, line \u001b[0;32m3\u001b[0m\n\u001b[0;31m    else:\u001b[0m\n\u001b[0m       ^\u001b[0m\n\u001b[0;31mSyntaxError\u001b[0m\u001b[0;31m:\u001b[0m invalid syntax\n"
     ]
    }
   ],
   "source": [
    "if 5 < 10:\n",
    "    print('Verdade isso ai')\n",
    "    else:\n",
    "        print('Falso')"
   ]
  },
  {
   "cell_type": "markdown",
   "metadata": {},
   "source": [
    "Obtemos um erro de sintaxe inválida, isso porque este **else** não está relacionado com nenhum **if**, pois não há nenhum com o mesmo level de identação que ele. Poderiamos ter algo assim:"
   ]
  },
  {
   "cell_type": "code",
   "execution_count": 24,
   "metadata": {},
   "outputs": [
    {
     "name": "stdout",
     "output_type": "stream",
     "text": [
      "Meio verdade meio mentira\n"
     ]
    }
   ],
   "source": [
    "if 5 < 10:\n",
    "    if 8 > 9:\n",
    "        print('Verdade essas coisas')\n",
    "    elif 4 > 5:\n",
    "        print('Ixi, sei nao')\n",
    "    else:\n",
    "        print('Meio verdade meio mentira')\n",
    "else:\n",
    "    print('Ja comecou mentindo')"
   ]
  },
  {
   "cell_type": "markdown",
   "metadata": {},
   "source": [
    "Um jeito conveniente que Python permite quando temos apenas uma linha para escrever depois de uma condição ou for é simplesmente escrever na frente"
   ]
  },
  {
   "cell_type": "code",
   "execution_count": 16,
   "metadata": {},
   "outputs": [
    {
     "name": "stdout",
     "output_type": "stream",
     "text": [
      "Verdade\n",
      "0,1,2,3,4,"
     ]
    }
   ],
   "source": [
    "if 5 < 10: print('Verdade')\n",
    "else: print('Mentira')\n",
    "\n",
    "for i in range(5): print(i, end=',')"
   ]
  },
  {
   "cell_type": "markdown",
   "metadata": {},
   "source": [
    "## Questão 2 - Sobre : e ;\n",
    "\n",
    "Python não necessita de **;** (ponto e vírgula) para saber o fim da linha, ele procura na verdade pelo nível de identação como vimos anteriormente, por isso podemos escrever como a seguir"
   ]
  },
  {
   "cell_type": "code",
   "execution_count": 21,
   "metadata": {},
   "outputs": [],
   "source": [
    "n = 2\n",
    "m = 10\n",
    "x, y = 10, 20"
   ]
  },
  {
   "cell_type": "markdown",
   "metadata": {},
   "source": [
    "Contudo ainda ***podemos*** porém não acho que devemos utilizar ;, o caso em que ; é permitido é quando queremos executar mais de um comando na mesma linha "
   ]
  },
  {
   "cell_type": "code",
   "execution_count": 22,
   "metadata": {},
   "outputs": [
    {
     "name": "stdout",
     "output_type": "stream",
     "text": [
      "0.2907407044540221\n"
     ]
    }
   ],
   "source": [
    "import random; print(random.random())"
   ]
  },
  {
   "cell_type": "markdown",
   "metadata": {},
   "source": [
    "Quando aos dois pontos :, este nos indica quando um novo bloco de identação vai começar, por isso os utilizamos ao terminar de declarar uma função **def funcao():**, ou quando iremos criar um bloco para o **for loop** ou para expressões condicionais"
   ]
  },
  {
   "cell_type": "markdown",
   "metadata": {},
   "source": [
    "## Questão 3 - Sobre formatação de strings"
   ]
  },
  {
   "cell_type": "markdown",
   "metadata": {},
   "source": [
    "Python nos permite formatar strings basicamente de três maneira diferentes."
   ]
  },
  {
   "cell_type": "code",
   "execution_count": 30,
   "metadata": {},
   "outputs": [
    {
     "name": "stdout",
     "output_type": "stream",
     "text": [
      "Dizemos 10 vezes olá ao Python!\n"
     ]
    }
   ],
   "source": [
    "n, s = 10, 'Python!'\n",
    "formato_antigo = 'Dizemos %s vezes olá ao %s' % (n, s)\n",
    "print(formato_antigo)"
   ]
  },
  {
   "cell_type": "markdown",
   "metadata": {},
   "source": [
    "Este primeiro nos remete ao estilo C de formatar strings e é chamado de **template string**, porém veja que **%s** não remete necessariamente a strings e não é preciso usar **%d** para imprimir inteiros. "
   ]
  },
  {
   "cell_type": "code",
   "execution_count": 31,
   "metadata": {},
   "outputs": [
    {
     "name": "stdout",
     "output_type": "stream",
     "text": [
      "Dizemos 10 vezes olá ao Python!\n"
     ]
    }
   ],
   "source": [
    "formato_novo = 'Dizemos {} vezes olá ao {}'.format(n,s)\n",
    "print(formato_novo)"
   ]
  },
  {
   "cell_type": "markdown",
   "metadata": {},
   "source": [
    "Nesse caso **{}** são preenchidos sequencialmente pelas variaveis passadas em **format**"
   ]
  },
  {
   "cell_type": "code",
   "execution_count": 32,
   "metadata": {},
   "outputs": [
    {
     "name": "stdout",
     "output_type": "stream",
     "text": [
      "Dizemos 10 vezes olá ao Python!\n"
     ]
    }
   ],
   "source": [
    "formato_interpolacao = f'Dizemos {n} vezes olá ao {s}'\n",
    "print(formato_interpolacao)"
   ]
  },
  {
   "cell_type": "markdown",
   "metadata": {},
   "source": [
    "Este funciona basicamente como **format**, o **f** no começo da string indica que haverão variaveis a serem inseridas na string, basta então colocar dentro de **{}** o nome da variavel. Nestas formatações não só variaveis podem ser passadas mas tambem podemos chamar funções. Um bom jeito de saber qual destes utilizar é seguir este gráfico abaixo. Mais sobre formatações neste [link](https://realpython.com/python-string-formatting/)\n",
    "\n",
    "<img src=\"str_format.jpg\" style=\"width: 50%; height: 50%\">"
   ]
  },
  {
   "cell_type": "markdown",
   "metadata": {},
   "source": [
    "## Questão 4 - Sobre dicionários e kwargs\n",
    "\n",
    "Como vimos um dicionário é uma estrutura de dados que nos permite associar uma chave a um valor, por exemplo"
   ]
  },
  {
   "cell_type": "code",
   "execution_count": 33,
   "metadata": {},
   "outputs": [],
   "source": [
    "d = {'chave1': 1, 'chave2': 2}"
   ]
  },
  {
   "cell_type": "markdown",
   "metadata": {},
   "source": [
    "**kwargs** são dicionários passados a funções quando existem diversos valores prédefinidos que possam ser ajustados e utilizados, cheque [aqui](https://matplotlib.org/api/pyplot_api.html) a segunda função e perceba a quantidade de parâmetros que a função pode utilizar, escrever todos na declaração da função é imprático e feio, logo **kwargs** é necessário, além disso facilita que outras pessoas possam utilizar estas funções para desenvolverem seus próprios pacotes sem se preocupar muito com mudanças nos parâmetros da função. Para funções que recebem utilizam poucos parâmetros **kwargs** acaba dificultando a vida do usuário e variáveis pré-definidas são a melhor opção."
   ]
  },
  {
   "cell_type": "markdown",
   "metadata": {},
   "source": [
    "Agora voltando a **d** vamos explicar o sentido dos ** em kwargs."
   ]
  },
  {
   "cell_type": "code",
   "execution_count": 40,
   "metadata": {},
   "outputs": [],
   "source": [
    "def desempacota(chave1, chave2):\n",
    "    print(chave1, chave2)"
   ]
  },
  {
   "cell_type": "code",
   "execution_count": 41,
   "metadata": {},
   "outputs": [
    {
     "name": "stdout",
     "output_type": "stream",
     "text": [
      "1 2\n"
     ]
    }
   ],
   "source": [
    "desempacota(**d)"
   ]
  },
  {
   "cell_type": "markdown",
   "metadata": {},
   "source": [
    "Veja que as chaves em **d** foram lidas pela função como variaveis, isto porque fazer ** em um dicionário antes de passálo como argumento a uma função transforma o que era 'chave1': 1 em chave1 = 1. Enquanto ** kwargs realiza o contrário, transformando argumentos como chave1 = 1 em 'chave1': 1 parte do dicionário kwargs. Note que escrever ** antes de uma variável não é sinônimo de que estamos declarando um dicionário, mas que estamos empacotando ou desempacotando os items e valores."
   ]
  },
  {
   "cell_type": "code",
   "execution_count": 42,
   "metadata": {},
   "outputs": [],
   "source": [
    "def empacota(**kwargs):\n",
    "    print(kwargs)"
   ]
  },
  {
   "cell_type": "code",
   "execution_count": 43,
   "metadata": {},
   "outputs": [
    {
     "name": "stdout",
     "output_type": "stream",
     "text": [
      "{'chave1': 1, 'chave2': 2, 'chave3': 3}\n"
     ]
    }
   ],
   "source": [
    "empacota(chave1=1, chave2=2, chave3=3)"
   ]
  },
  {
   "cell_type": "markdown",
   "metadata": {},
   "source": [
    "Mais explicações neste [link](https://stackoverflow.com/questions/36901/what-does-double-star-asterisk-and-star-asterisk-do-for-parameters)"
   ]
  },
  {
   "cell_type": "markdown",
   "metadata": {},
   "source": [
    "## Questão 5 - Sobre algumas coisas da [aula 2](https://github.com/israelcamp/AulasPython/blob/master/Aula2/dicionarios.ipynb)\n",
    "\n",
    "Primeiramente, pelo jeito há uma discrepância sobre como o Python lida com alunos.items() dependendo da versão, se alguém obter o erro abaixo quando tentando executar o código a saída é fazer como na célula seguinte."
   ]
  },
  {
   "cell_type": "code",
   "execution_count": 45,
   "metadata": {},
   "outputs": [
    {
     "name": "stdout",
     "output_type": "stream",
     "text": [
      "dict_items([('sinara', 10), ('julia', 20), ('du', 50), ('v', 3), ('omitto', -1)])\n"
     ]
    },
    {
     "ename": "AttributeError",
     "evalue": "'dict_items' object has no attribute 'sort'",
     "output_type": "error",
     "traceback": [
      "\u001b[0;31m---------------------------------------------------------------------------\u001b[0m",
      "\u001b[0;31mAttributeError\u001b[0m                            Traceback (most recent call last)",
      "\u001b[0;32m<ipython-input-45-3666f6650089>\u001b[0m in \u001b[0;36m<module>\u001b[0;34m()\u001b[0m\n\u001b[1;32m      2\u001b[0m \u001b[0mlista_alunos\u001b[0m \u001b[0;34m=\u001b[0m \u001b[0malunos\u001b[0m\u001b[0;34m.\u001b[0m\u001b[0mitems\u001b[0m\u001b[0;34m(\u001b[0m\u001b[0;34m)\u001b[0m\u001b[0;34m\u001b[0m\u001b[0m\n\u001b[1;32m      3\u001b[0m \u001b[0mprint\u001b[0m\u001b[0;34m(\u001b[0m\u001b[0mlista_alunos\u001b[0m\u001b[0;34m)\u001b[0m\u001b[0;34m\u001b[0m\u001b[0m\n\u001b[0;32m----> 4\u001b[0;31m \u001b[0mlista_alunos\u001b[0m\u001b[0;34m.\u001b[0m\u001b[0msort\u001b[0m\u001b[0;34m(\u001b[0m\u001b[0;34m)\u001b[0m\u001b[0;34m\u001b[0m\u001b[0m\n\u001b[0m",
      "\u001b[0;31mAttributeError\u001b[0m: 'dict_items' object has no attribute 'sort'"
     ]
    }
   ],
   "source": [
    "alunos = {'sinara':10, 'julia':20, 'du':50, 'v':3, 'omitto':-1}\n",
    "lista_alunos = alunos.items()\n",
    "print(lista_alunos)\n",
    "lista_alunos.sort()"
   ]
  },
  {
   "cell_type": "code",
   "execution_count": 47,
   "metadata": {},
   "outputs": [
    {
     "name": "stdout",
     "output_type": "stream",
     "text": [
      "[('du', 50), ('julia', 20), ('omitto', -1), ('sinara', 10), ('v', 3)]\n"
     ]
    }
   ],
   "source": [
    "lista_alunos = list(alunos.items())\n",
    "lista_alunos.sort()\n",
    "print(lista_alunos)"
   ]
  },
  {
   "cell_type": "markdown",
   "metadata": {},
   "source": [
    "Além disso, parece que há um erro na última função dessa mesma aula, a solução é definir da seguinte maneira:"
   ]
  },
  {
   "cell_type": "code",
   "execution_count": 48,
   "metadata": {},
   "outputs": [
    {
     "name": "stdout",
     "output_type": "stream",
     "text": [
      "Aluno \"du\" com valor 50 encontrado\n",
      "Aluno \"sinara\" com valor 10 encontrado\n",
      "Aluno \"julia\" com valor 20 encontrado\n",
      "Aluno \"tomeo\" nao encontrado\n"
     ]
    }
   ],
   "source": [
    "def procura_varios(*nomes, **kwargs):\n",
    "    alunos = kwargs['alunos']\n",
    "        \n",
    "    for n in nomes:\n",
    "        if n in alunos:\n",
    "            print('Aluno \"{}\" com valor {} encontrado'.format(n, alunos[n]))\n",
    "        else:\n",
    "            print('Aluno \"{}\" nao encontrado'.format(n))\n",
    "procura_varios('du', 'sinara', 'julia', 'tomeo', alunos=alunos)"
   ]
  },
  {
   "cell_type": "markdown",
   "metadata": {},
   "source": [
    "Veja que como passamos o argumento **alunos=alunos** nosso ***kwargs*** conterá {'alunos':alunos} e podemos então acessá-los facilmente."
   ]
  }
 ],
 "metadata": {
  "kernelspec": {
   "display_name": "Python [conda env:kaggle]",
   "language": "python",
   "name": "conda-env-kaggle-py"
  },
  "language_info": {
   "codemirror_mode": {
    "name": "ipython",
    "version": 3
   },
   "file_extension": ".py",
   "mimetype": "text/x-python",
   "name": "python",
   "nbconvert_exporter": "python",
   "pygments_lexer": "ipython3",
   "version": "3.6.6"
  }
 },
 "nbformat": 4,
 "nbformat_minor": 2
}
