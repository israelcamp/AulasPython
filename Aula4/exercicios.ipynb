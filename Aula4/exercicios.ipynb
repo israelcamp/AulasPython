{
 "cells": [
  {
   "cell_type": "markdown",
   "metadata": {},
   "source": [
    "# Aula 4 - Exercícios"
   ]
  },
  {
   "cell_type": "markdown",
   "metadata": {},
   "source": [
    "## Questão 1\n",
    "Receber como entrada uma sequência de números separados por vírgula e gerar uma lista e uma tupla contendo os números.\n",
    "\n",
    "**Entrada**: 10,20,30,40\n",
    "\n",
    "**Saída**:[10, 20, 30, 40] e (10, 20, 30, 40)"
   ]
  },
  {
   "cell_type": "markdown",
   "metadata": {},
   "source": [
    "### Solução\n",
    "\n",
    "Vamos começar recendo a sequência de números e percebendo o que nos é retornado"
   ]
  },
  {
   "cell_type": "code",
   "execution_count": 1,
   "metadata": {},
   "outputs": [
    {
     "name": "stdout",
     "output_type": "stream",
     "text": [
      "10,20,30,40\n"
     ]
    }
   ],
   "source": [
    "numeros = input()"
   ]
  },
  {
   "cell_type": "code",
   "execution_count": 2,
   "metadata": {},
   "outputs": [
    {
     "data": {
      "text/plain": [
       "str"
      ]
     },
     "execution_count": 2,
     "metadata": {},
     "output_type": "execute_result"
    }
   ],
   "source": [
    "type(numeros)"
   ]
  },
  {
   "cell_type": "markdown",
   "metadata": {},
   "source": [
    "**números** pertence a classe string, felizmente strings podem ser divididas facilmente usando o método ***split***, basta passarmos como argumento a string que queremos usar como divisão, neste caso a vírgula"
   ]
  },
  {
   "cell_type": "code",
   "execution_count": 4,
   "metadata": {},
   "outputs": [
    {
     "name": "stdout",
     "output_type": "stream",
     "text": [
      "['10', '20', '30', '40']\n"
     ]
    },
    {
     "data": {
      "text/plain": [
       "list"
      ]
     },
     "execution_count": 4,
     "metadata": {},
     "output_type": "execute_result"
    }
   ],
   "source": [
    "lista_numeros = numeros.split(',')\n",
    "print(lista_numeros)\n",
    "type(lista_numeros)"
   ]
  },
  {
   "cell_type": "markdown",
   "metadata": {},
   "source": [
    "Mas veja que cada elemento da lista é uma string, porém queremos números, vamos fazer então a conversão:"
   ]
  },
  {
   "cell_type": "code",
   "execution_count": 8,
   "metadata": {},
   "outputs": [],
   "source": [
    "for i in range(len(lista_numeros)): lista_numeros[i] = int(lista_numeros[i])"
   ]
  },
  {
   "cell_type": "code",
   "execution_count": 9,
   "metadata": {},
   "outputs": [
    {
     "name": "stdout",
     "output_type": "stream",
     "text": [
      "[10, 20, 30, 40]\n"
     ]
    }
   ],
   "source": [
    "print(lista_numeros)"
   ]
  },
  {
   "cell_type": "markdown",
   "metadata": {},
   "source": [
    "Agora para guardamos como uma tupla basta utilizar **tuple**"
   ]
  },
  {
   "cell_type": "code",
   "execution_count": 11,
   "metadata": {},
   "outputs": [
    {
     "name": "stdout",
     "output_type": "stream",
     "text": [
      "(10, 20, 30, 40)\n"
     ]
    }
   ],
   "source": [
    "tupla_numeros = tuple(lista_numeros)\n",
    "print(tupla_numeros)"
   ]
  },
  {
   "cell_type": "markdown",
   "metadata": {},
   "source": [
    "Como continuação do exercício pode escrever uma função que retorna a lista e a tupla a partir de uma string de números como acima, verificando se esta conversão é possível, pois o que aconteceria se o usuário passasse 'ola' ao invés de um número?"
   ]
  },
  {
   "cell_type": "markdown",
   "metadata": {},
   "source": [
    "## Questão 2\n",
    "Construa uma classe que possua dois métodos/funções, uma que nos permita salvar uma string a partir do input do usuário e outra que nos permita printar todas as strings salvas até o momento, note que todas as strings devem ser salvas.\n",
    "\n",
    "### Solução\n",
    "\n",
    "Vamos começar pensando nas funções que precisamos ter, primeiramente precisamos de uma função que espere pelo input do usuário e salve a nova string junto com as outras, precisaremos então de uma lista para irmos gurdando as strings, logo nosso objeto deve iniciar uma lista vazia onde possa salvar as novas, para isso iremos fazer uso da função **init**, depois precisamos uma função que printe as strings, poderíamos criar tal método, porém a forma mais elegante é definir a função **str**, fica assim então:"
   ]
  },
  {
   "cell_type": "code",
   "execution_count": 19,
   "metadata": {},
   "outputs": [],
   "source": [
    "class UserStrs:\n",
    "    def __init__(self):\n",
    "        self.strings = []\n",
    "        \n",
    "    def getString(self):\n",
    "        self.strings.append(input())\n",
    "    \n",
    "    def __str__(self):\n",
    "        return '\\n'.join(self.strings)"
   ]
  },
  {
   "cell_type": "code",
   "execution_count": 20,
   "metadata": {},
   "outputs": [],
   "source": [
    "s = UserStrs()"
   ]
  },
  {
   "cell_type": "code",
   "execution_count": 21,
   "metadata": {},
   "outputs": [
    {
     "name": "stdout",
     "output_type": "stream",
     "text": [
      "Origem do nome Python\n",
      "Devido ao Monty Python\n",
      "Legal\n"
     ]
    }
   ],
   "source": [
    "s.getString()\n",
    "s.getString()\n",
    "s.getString()"
   ]
  },
  {
   "cell_type": "code",
   "execution_count": 22,
   "metadata": {},
   "outputs": [
    {
     "name": "stdout",
     "output_type": "stream",
     "text": [
      "Origem do nome Python\n",
      "Devido ao Monty Python\n",
      "Legal\n"
     ]
    }
   ],
   "source": [
    "print(s)"
   ]
  },
  {
   "cell_type": "markdown",
   "metadata": {},
   "source": [
    "Como continuação explore mais as funcionalidades de uma string, vemos acima que uma lista de strings pode ser unificada em uma única string onde usamos **\\n** como string de junção."
   ]
  },
  {
   "cell_type": "markdown",
   "metadata": {},
   "source": [
    "## Questão 3\n",
    "\n",
    "Escreva uma função que recebe uma lista números binários (no formato string) e que retorna aqueles que são divisiveis por 5.\n",
    "\n",
    "**Entrada**: ['0100', '0011', '1010', '1001']\n",
    "\n",
    "**Saída**: '1010'"
   ]
  },
  {
   "cell_type": "markdown",
   "metadata": {},
   "source": [
    "### Solução\n",
    "\n",
    "Não há muito segredo para este exercício, na verdade só um, a função **int**"
   ]
  },
  {
   "cell_type": "code",
   "execution_count": 23,
   "metadata": {},
   "outputs": [],
   "source": [
    "def binary_by5(lista):\n",
    "    return [x for x in lista if int(x,2) % 5 == 0]"
   ]
  },
  {
   "cell_type": "code",
   "execution_count": 24,
   "metadata": {},
   "outputs": [
    {
     "name": "stdout",
     "output_type": "stream",
     "text": [
      "['1010']\n"
     ]
    }
   ],
   "source": [
    "lista = ['0100','0011','1010','1001']\n",
    "print(binary_by5(lista))"
   ]
  },
  {
   "cell_type": "markdown",
   "metadata": {},
   "source": [
    "Simples, não é mesmo?"
   ]
  }
 ],
 "metadata": {
  "kernelspec": {
   "display_name": "Python [conda env:kaggle]",
   "language": "python",
   "name": "conda-env-kaggle-py"
  },
  "language_info": {
   "codemirror_mode": {
    "name": "ipython",
    "version": 3
   },
   "file_extension": ".py",
   "mimetype": "text/x-python",
   "name": "python",
   "nbconvert_exporter": "python",
   "pygments_lexer": "ipython3",
   "version": "3.6.6"
  }
 },
 "nbformat": 4,
 "nbformat_minor": 2
}
