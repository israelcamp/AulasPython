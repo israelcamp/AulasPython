{
 "cells": [
  {
   "cell_type": "markdown",
   "metadata": {},
   "source": [
    "## Aula 1"
   ]
  },
  {
   "cell_type": "markdown",
   "metadata": {},
   "source": [
    "Declarando uma variavel inteiro, tipo int"
   ]
  },
  {
   "cell_type": "code",
   "execution_count": 1,
   "metadata": {},
   "outputs": [],
   "source": [
    "n1 = 220"
   ]
  },
  {
   "cell_type": "markdown",
   "metadata": {},
   "source": [
    "Declarando uma lista"
   ]
  },
  {
   "cell_type": "code",
   "execution_count": 2,
   "metadata": {},
   "outputs": [],
   "source": [
    "divisores_n1 = []"
   ]
  },
  {
   "cell_type": "markdown",
   "metadata": {},
   "source": [
    "Fazendo um loop e checando se encontramos divisores de n1, se sim adicionamos na lista\n",
    "A funcao range() pode levar ate tres argumentos:\n",
    "\n",
    "1. range(start, end, step) - comeca em start, cotinua ate end pulando step\n",
    "2. range(start, end) - comeca em start e vai ate end-1, neste caso step=1 por definicao\n",
    "3. range(end) - comeca em 0 e vai ate end-1 com step=1\n",
    "\n",
    "Note que range() cria lista em [start, end)"
   ]
  },
  {
   "cell_type": "code",
   "execution_count": 3,
   "metadata": {},
   "outputs": [],
   "source": [
    "for i in range(1, 111):\n",
    "    if n1 % i == 0:\n",
    "        divisores_n1.append(i)"
   ]
  },
  {
   "cell_type": "code",
   "execution_count": 4,
   "metadata": {},
   "outputs": [
    {
     "data": {
      "text/plain": [
       "[1, 2, 4, 5, 10, 11, 20, 22, 44, 55, 110]"
      ]
     },
     "execution_count": 4,
     "metadata": {},
     "output_type": "execute_result"
    }
   ],
   "source": [
    "divisores_n1"
   ]
  },
  {
   "cell_type": "code",
   "execution_count": 5,
   "metadata": {},
   "outputs": [
    {
     "name": "stdout",
     "output_type": "stream",
     "text": [
      "divisores_n1 tem tamanho 11\n"
     ]
    }
   ],
   "source": [
    "print('divisores_n1 tem tamanho', len(divisores_n1))"
   ]
  },
  {
   "cell_type": "code",
   "execution_count": 6,
   "metadata": {},
   "outputs": [],
   "source": [
    "n2 = 284"
   ]
  },
  {
   "cell_type": "code",
   "execution_count": 7,
   "metadata": {},
   "outputs": [],
   "source": [
    "divisores_n2 = []"
   ]
  },
  {
   "cell_type": "code",
   "execution_count": 8,
   "metadata": {},
   "outputs": [],
   "source": [
    "for i in range(1, int(n2/2) + 1):\n",
    "    if n2 % i == 0:\n",
    "        divisores_n2.append(i)"
   ]
  },
  {
   "cell_type": "code",
   "execution_count": 9,
   "metadata": {},
   "outputs": [
    {
     "data": {
      "text/plain": [
       "[1, 2, 4, 71, 142]"
      ]
     },
     "execution_count": 9,
     "metadata": {},
     "output_type": "execute_result"
    }
   ],
   "source": [
    "divisores_n2"
   ]
  },
  {
   "cell_type": "markdown",
   "metadata": {},
   "source": [
    "Se os valores presentes na lista forem numerico (int, float) podemos utilizar uma funcao predefinada em python sum() para somar seus elementos"
   ]
  },
  {
   "cell_type": "code",
   "execution_count": 10,
   "metadata": {},
   "outputs": [],
   "source": [
    "soma_n1 = sum(divisores_n1)\n",
    "soma_n2 = sum(divisores_n2)"
   ]
  },
  {
   "cell_type": "markdown",
   "metadata": {},
   "source": [
    "Condicao para termos numeros amigos"
   ]
  },
  {
   "cell_type": "code",
   "execution_count": 11,
   "metadata": {},
   "outputs": [
    {
     "name": "stdout",
     "output_type": "stream",
     "text": [
      "Sao amigos\n"
     ]
    }
   ],
   "source": [
    "if soma_n1 == n2 and soma_n2 == n1:\n",
    "    print('Sao amigos')\n",
    "else:\n",
    "    print('Nao sao amigos')"
   ]
  },
  {
   "cell_type": "markdown",
   "metadata": {},
   "source": [
    "### Funcoes\n",
    "\n",
    "Podemos generalizar estas operacoes ao definir funcoes. Para a primeira funcao vamos receber um numero inteiro n\n",
    "e devolver a soma de seus divisores. Precisamos ter certeze que os numeros sejam inteiros, para isto adicionamos um assert, caso a expressao logo a seguir o assert for falsa, a string de erro e retornada e terminasse a execucao.\n",
    "\n",
    "assert algo_que_deve_ser_verdade, string de erro"
   ]
  },
  {
   "cell_type": "code",
   "execution_count": 12,
   "metadata": {},
   "outputs": [],
   "source": [
    "def soma_divisores(n):\n",
    "    assert type(n) == int, 'Os valores devem ser inteiros'\n",
    "    div = []\n",
    "    for i in range(1, n//2 + 1):\n",
    "        if n % i == 0:\n",
    "            div.append(i)\n",
    "    return sum(div)"
   ]
  },
  {
   "cell_type": "code",
   "execution_count": 13,
   "metadata": {},
   "outputs": [
    {
     "name": "stdout",
     "output_type": "stream",
     "text": [
      "Os divisores de 220 somam 284\n"
     ]
    }
   ],
   "source": [
    "print('Os divisores de {} somam {}'.format(220, soma_divisores(220)))"
   ]
  },
  {
   "cell_type": "markdown",
   "metadata": {},
   "source": [
    "Vamos escrever entao uma funcao que receba dois numeros: n1 e n2 e nos diga se os numeros sao amigos ou nao"
   ]
  },
  {
   "cell_type": "code",
   "execution_count": 14,
   "metadata": {},
   "outputs": [],
   "source": [
    "def sao_amigos(n1, n2):\n",
    "    assert 1 <= n1 <= 1e6, 'Passe n1 certo'\n",
    "    assert 1 <= n2 <= 1e6, 'Passe n2 certo'\n",
    "    soma1 = soma_divisores(n1)\n",
    "    soma2 = soma_divisores(n2)\n",
    "    if soma1 == n2 and soma2 == n1:\n",
    "        return 'Sao amigos'\n",
    "    else:\n",
    "        return 'Nao sao amigos'"
   ]
  },
  {
   "cell_type": "code",
   "execution_count": 15,
   "metadata": {},
   "outputs": [
    {
     "name": "stdout",
     "output_type": "stream",
     "text": [
      "Os numeros 220 e 284 Sao amigos\n"
     ]
    }
   ],
   "source": [
    "print(f'Os numeros {n1} e {n2}',sao_amigos(n1, n2))"
   ]
  }
 ],
 "metadata": {
  "kernelspec": {
   "display_name": "Python 3",
   "language": "python",
   "name": "python3"
  },
  "language_info": {
   "codemirror_mode": {
    "name": "ipython",
    "version": 3
   },
   "file_extension": ".py",
   "mimetype": "text/x-python",
   "name": "python",
   "nbconvert_exporter": "python",
   "pygments_lexer": "ipython3",
   "version": "3.6.3"
  }
 },
 "nbformat": 4,
 "nbformat_minor": 2
}
