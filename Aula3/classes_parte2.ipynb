{
 "cells": [
  {
   "cell_type": "markdown",
   "metadata": {},
   "source": [
    "# Aula 3 - Classes - Parte 2"
   ]
  },
  {
   "cell_type": "markdown",
   "metadata": {},
   "source": [
    "Continuando de onde a Parte 1 parou, vamos agora falar de dois tipos de funções que podem estar contidas num classe\n",
    "bem como outras utilidades que podem ser utilizadas.\n",
    "\n",
    "Começamos definindo a seguinte classe"
   ]
  },
  {
   "cell_type": "code",
   "execution_count": 1,
   "metadata": {},
   "outputs": [],
   "source": [
    "import random"
   ]
  },
  {
   "cell_type": "code",
   "execution_count": 2,
   "metadata": {},
   "outputs": [],
   "source": [
    "class Aluno_3_2():\n",
    "    \n",
    "    def __init__(self, ra):\n",
    "        self.notas = {} \n",
    "        self.ra = ra \n",
    "        \n",
    "    @classmethod\n",
    "    def define_avisos(cls, aviso):\n",
    "        cls.aviso = aviso # cria e define atributo aviso para todos os alunos\n",
    "        \n",
    "    @staticmethod\n",
    "    def dominio_email():\n",
    "        return '@dac.unicamp.br'\n",
    "    \n",
    "    def faz_prova(self, curso, estudou='Nao Sei'):\n",
    "        ''' Recebe a informação se o aluno estudou ou não, se a informação não for passada utilizada Nao Sei como\n",
    "        valor predefinido.\n",
    "        '''\n",
    "        nota_min, nota_max = self.__decide_notas_minmax(estudou) #decide nota minima e maxima\n",
    "        self.notas[curso] = self.__gera_nota(nota_min, nota_max)\n",
    "        \n",
    "    def __gera_nota(self, nota_min=0, nota_max=10):\n",
    "        '''Gera um valor inteiro em [nota_min, nota_max]'''\n",
    "        return random.randint(nota_min, nota_max)\n",
    "    \n",
    "    def __decide_notas_minmax(self, estudou):\n",
    "        ''' Recebe a informação se o aluno estudou, não estudou ou se não se sabe e dependendo do caso\n",
    "        retorna quais são as notas minimas e maximas possiveis\n",
    "        '''\n",
    "        assert estudou in ['Nao Sei', 'Estudou', 'Nao Estudou'], 'Fale corretamente'\n",
    "        if estudou == 'Nao Sei':\n",
    "            nota_min, nota_max = 0, 10\n",
    "        elif estudou == 'Estudou':\n",
    "            nota_min, nota_max = 5, 10\n",
    "        else:\n",
    "            nota_min, nota_max = 0, 5\n",
    "        return nota_min, nota_max"
   ]
  },
  {
   "cell_type": "code",
   "execution_count": 3,
   "metadata": {},
   "outputs": [],
   "source": [
    "tadeu = Aluno_3_2(ra=185236)\n",
    "carmina = Aluno_3_2(ra=147852)"
   ]
  },
  {
   "cell_type": "code",
   "execution_count": 4,
   "metadata": {},
   "outputs": [
    {
     "name": "stdout",
     "output_type": "stream",
     "text": [
      "Vai ter churras\n",
      "Vai ter churras\n",
      "Vai ter sorvetada\n",
      "Vai ter sorvetada\n"
     ]
    }
   ],
   "source": [
    "Aluno_3_2.define_avisos('Vai ter churras')\n",
    "print(tadeu.aviso)\n",
    "print(carmina.aviso)\n",
    "\n",
    "tadeu.define_avisos('Vai ter sorvetada')\n",
    "print(tadeu.aviso)\n",
    "print(carmina.aviso)"
   ]
  },
  {
   "cell_type": "markdown",
   "metadata": {},
   "source": [
    "Veja como definir um aviso com o tadeu criou e mudou o aviso em carmina para o mesmo, isto aconteceu por que ***@classmethod*** define que a função logo a seguir vai definir algo que deve ser compartilhado entre todos as instâncias desta classe, ou seja, entre os alunos. De fato, **cls** faz uma alusão a **class**, enquanto, como vimos, **self** faz a uma alusão ao próprio objeto.\n",
    "\n",
    "Note agora como uma função que vem após ***@staticmethod*** não recebe nem **cls** nem **self** como parâmetro, isto por que esta função retorna algo que independe do objeto, ou seja, para os mesmos parâmetros de entrada a saida é a mesma independentemente de quem a chama."
   ]
  },
  {
   "cell_type": "code",
   "execution_count": 5,
   "metadata": {},
   "outputs": [
    {
     "name": "stdout",
     "output_type": "stream",
     "text": [
      "@dac.unicamp.br @dac.unicamp.br\n"
     ]
    }
   ],
   "source": [
    "print(tadeu.dominio_email(), Aluno_3_2.dominio_email())"
   ]
  },
  {
   "cell_type": "markdown",
   "metadata": {},
   "source": [
    "Agora suponha que eu queira ver algumas informações sobre o tadeu, não existe nenhuma função definida na classe que nos permita uma visualização clara de quem é o aluno tadeu, se tentarmos printá-lo:"
   ]
  },
  {
   "cell_type": "code",
   "execution_count": 6,
   "metadata": {},
   "outputs": [
    {
     "name": "stdout",
     "output_type": "stream",
     "text": [
      "<__main__.Aluno_3_2 object at 0x7f24091d9a58>\n"
     ]
    }
   ],
   "source": [
    "print(tadeu)"
   ]
  },
  {
   "cell_type": "markdown",
   "metadata": {},
   "source": [
    "Recebemos uma informação completamente irrelevante para o usuário, felizmente ***python*** nos permite melhorar isto, vamos assim definir uma classe com uma nova função para retornar informações sobre o aluno e outra para nos auxiliar. "
   ]
  },
  {
   "cell_type": "code",
   "execution_count": 7,
   "metadata": {},
   "outputs": [],
   "source": [
    "class Aluno_4():\n",
    "    \n",
    "    def __init__(self, ra):\n",
    "        self.notas = {} \n",
    "        self.ra = ra\n",
    "        \n",
    "    def __str__(self):\n",
    "        media = self.calcula_media()\n",
    "        return f'O aluno(a) de RA {self.ra} tem uma media de {media} em {len(self.notas)} cursos'\n",
    "    \n",
    "    @classmethod\n",
    "    def define_avisos(cls, aviso):\n",
    "        cls.aviso = aviso\n",
    "        \n",
    "    @staticmethod\n",
    "    def dominio_email():\n",
    "        return '@dac.unicamp.br'\n",
    "    \n",
    "    def calcula_media(self):\n",
    "        return sum([nota for nota in self.notas.values()])/len(self.notas)\n",
    "    \n",
    "    def faz_prova(self, cursos, estudou='Nao Sei'):\n",
    "        ''' Recebe a informação se o aluno estudou ou não, se a informação não for passada utilizada Nao Sei como\n",
    "        valor predefinido.\n",
    "        '''\n",
    "        nota_min, nota_max = self.__decide_notas_minmax(estudou) \n",
    "        for curso in cursos: #mudancao aqui para lista de cursos \n",
    "            self.notas[curso] = self.__gera_nota(nota_min, nota_max)\n",
    "        \n",
    "    def __gera_nota(self, nota_min=0, nota_max=10):\n",
    "        '''Gera um valor inteiro em [nota_min, nota_max]'''\n",
    "        return random.randint(nota_min, nota_max)\n",
    "    \n",
    "    def __decide_notas_minmax(self, estudou):\n",
    "        ''' Recebe a informação se o aluno estudou, não estudou ou se não se sabe e dependendo do caso\n",
    "        retorna quais são as notas minimas e maximas possiveis\n",
    "        '''\n",
    "        assert estudou in ['Nao Sei', 'Estudou', 'Nao Estudou'], 'Fale corretamente'\n",
    "        if estudou == 'Nao Sei':\n",
    "            nota_min, nota_max = 0, 10\n",
    "        elif estudou == 'Estudou':\n",
    "            nota_min, nota_max = 5, 10\n",
    "        else:\n",
    "            nota_min, nota_max = 0, 5\n",
    "        return nota_min, nota_max"
   ]
  },
  {
   "cell_type": "code",
   "execution_count": 8,
   "metadata": {},
   "outputs": [
    {
     "name": "stdout",
     "output_type": "stream",
     "text": [
      "O aluno(a) de RA 178954 tem uma media de 7.5 em 4 cursos\n"
     ]
    }
   ],
   "source": [
    "carmina = Aluno_4(178954)\n",
    "carmina.faz_prova(cursos=['Metods', 'Analise', 'Calculo', 'Algelin'], estudou='Estudou')\n",
    "print(carmina)"
   ]
  },
  {
   "cell_type": "markdown",
   "metadata": {},
   "source": [
    "Outras funções também são possíveis, podemos definir por exemplo a função __len__ que retorna o comprimento do objeto, neste caso o que significaria isto? Uma possibilidade é a de comparações, por exemplo através da função __ge__ (greater or equal). Nela além de termos o parâmetro ***self** teriamos como segundo parâmetro um outro aluno, veja como funciona."
   ]
  },
  {
   "cell_type": "code",
   "execution_count": 9,
   "metadata": {},
   "outputs": [],
   "source": [
    "class Aluno_4_1():\n",
    "    \n",
    "    def __init__(self, ra):\n",
    "        self.notas = {} \n",
    "        self.ra = ra\n",
    "        \n",
    "    def __str__(self):\n",
    "        media = self.calcula_media()\n",
    "        return f'O aluno(a) de RA {self.ra} tem uma media de {media} em {len(self.notas)} cursos'\n",
    "    \n",
    "    def __ge__(self, outro_aluno):\n",
    "        minha_media = self.calcula_media()\n",
    "        outro_media = outro_aluno.calcula_media()\n",
    "        return minha_media >= outro_media\n",
    "    \n",
    "    @classmethod\n",
    "    def define_avisos(cls, aviso):\n",
    "        cls.aviso = aviso\n",
    "        \n",
    "    @staticmethod\n",
    "    def dominio_email():\n",
    "        return '@dac.unicamp.br'\n",
    "    \n",
    "    def calcula_media(self):\n",
    "        return sum([nota for nota in self.notas.values()])/len(self.notas)\n",
    "    \n",
    "    def faz_prova(self, cursos, estudou='Nao Sei'):\n",
    "        ''' Recebe a informação se o aluno estudou ou não, se a informação não for passada utilizada Nao Sei como\n",
    "        valor predefinido.\n",
    "        '''\n",
    "        nota_min, nota_max = self.__decide_notas_minmax(estudou) #decide nota minima e maxima\n",
    "        for curso in cursos:\n",
    "            self.notas[curso] = self.__gera_nota(nota_min, nota_max)\n",
    "        \n",
    "    def __gera_nota(self, nota_min=0, nota_max=10):\n",
    "        '''Gera um valor inteiro em [nota_min, nota_max]'''\n",
    "        return random.randint(nota_min, nota_max)\n",
    "    \n",
    "    def __decide_notas_minmax(self, estudou):\n",
    "        ''' Recebe a informação se o aluno estudou, não estudou ou se não se sabe e dependendo do caso\n",
    "        retorna quais são as notas minimas e maximas possiveis\n",
    "        '''\n",
    "        assert estudou in ['Nao Sei', 'Estudou', 'Nao Estudou'], 'Fale corretamente'\n",
    "        if estudou == 'Nao Sei':\n",
    "            nota_min, nota_max = 0, 10\n",
    "        elif estudou == 'Estudou':\n",
    "            nota_min, nota_max = 5, 10\n",
    "        else:\n",
    "            nota_min, nota_max = 0, 5\n",
    "        return nota_min, nota_max"
   ]
  },
  {
   "cell_type": "code",
   "execution_count": 10,
   "metadata": {},
   "outputs": [
    {
     "data": {
      "text/plain": [
       "False"
      ]
     },
     "execution_count": 10,
     "metadata": {},
     "output_type": "execute_result"
    }
   ],
   "source": [
    "jose = Aluno_4_1(147896)\n",
    "florentina = Aluno_4_1(123654)\n",
    "\n",
    "jose.faz_prova(['Metods', 'Analise', 'Algebra'])\n",
    "florentina.faz_prova(['Analise', 'Quimica', 'Historia'])\n",
    "\n",
    "jose >= florentina"
   ]
  },
  {
   "cell_type": "markdown",
   "metadata": {},
   "source": [
    "Se checarmos o **dir** de classes como list e dict veremos que tipo de funções podem ser implementadas, estas são sempre marcas pelos dois underscores antes e depois do nome (***magic functions***)"
   ]
  },
  {
   "cell_type": "code",
   "execution_count": 11,
   "metadata": {},
   "outputs": [
    {
     "data": {
      "text/plain": [
       "['__add__',\n",
       " '__class__',\n",
       " '__contains__',\n",
       " '__delattr__',\n",
       " '__delitem__',\n",
       " '__dir__',\n",
       " '__doc__',\n",
       " '__eq__',\n",
       " '__format__',\n",
       " '__ge__',\n",
       " '__getattribute__',\n",
       " '__getitem__',\n",
       " '__gt__',\n",
       " '__hash__',\n",
       " '__iadd__',\n",
       " '__imul__',\n",
       " '__init__',\n",
       " '__init_subclass__',\n",
       " '__iter__',\n",
       " '__le__',\n",
       " '__len__',\n",
       " '__lt__',\n",
       " '__mul__',\n",
       " '__ne__',\n",
       " '__new__',\n",
       " '__reduce__',\n",
       " '__reduce_ex__',\n",
       " '__repr__',\n",
       " '__reversed__',\n",
       " '__rmul__',\n",
       " '__setattr__',\n",
       " '__setitem__',\n",
       " '__sizeof__',\n",
       " '__str__',\n",
       " '__subclasshook__',\n",
       " 'append',\n",
       " 'clear',\n",
       " 'copy',\n",
       " 'count',\n",
       " 'extend',\n",
       " 'index',\n",
       " 'insert',\n",
       " 'pop',\n",
       " 'remove',\n",
       " 'reverse',\n",
       " 'sort']"
      ]
     },
     "execution_count": 11,
     "metadata": {},
     "output_type": "execute_result"
    }
   ],
   "source": [
    "dir(list)"
   ]
  }
 ],
 "metadata": {
  "kernelspec": {
   "display_name": "Python [conda root]",
   "language": "python",
   "name": "conda-root-py"
  },
  "language_info": {
   "codemirror_mode": {
    "name": "ipython",
    "version": 3
   },
   "file_extension": ".py",
   "mimetype": "text/x-python",
   "name": "python",
   "nbconvert_exporter": "python",
   "pygments_lexer": "ipython3",
   "version": "3.6.5"
  }
 },
 "nbformat": 4,
 "nbformat_minor": 2
}
