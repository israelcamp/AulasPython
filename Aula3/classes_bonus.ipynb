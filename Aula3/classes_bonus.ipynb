{
 "cells": [
  {
   "cell_type": "markdown",
   "metadata": {},
   "source": [
    "# Aula 3 - Classes - Bônus"
   ]
  },
  {
   "cell_type": "markdown",
   "metadata": {},
   "source": [
    "Como vimos classes são bem simples, mas bastante poderosas, contudo pode ter ficado o sentimento de que toda vez que eu quiser definir uma classe que é parecida com outra que eu já possuo eu teria que copiar o código e adicionar as funções que eu gostaria, mas **NÃO**, não é necessário fazer isto, a seguir definimos uma primeira classe de alunos e fazemos com que a próxima se aproveite daquilo que já foi feito na primeira."
   ]
  },
  {
   "cell_type": "code",
   "execution_count": 4,
   "metadata": {},
   "outputs": [],
   "source": [
    "import random"
   ]
  },
  {
   "cell_type": "code",
   "execution_count": 8,
   "metadata": {},
   "outputs": [],
   "source": [
    "class Aluno():\n",
    "    \n",
    "    def __init__(self, ra):\n",
    "        self.notas = {} \n",
    "        self.ra = ra\n",
    "    \n",
    "    def calcula_media(self):\n",
    "        return sum([nota for nota in self.notas.values()])/len(self.notas)\n",
    "    \n",
    "    def faz_prova(self, cursos, estudou='Nao Sei'):\n",
    "        ''' Recebe a informação se o aluno estudou ou não, se a informação não for passada utilizada Nao Sei como\n",
    "        valor predefinido.\n",
    "        '''\n",
    "        nota_min, nota_max = self.__decide_notas_minmax(estudou) #decide nota minima e maxima\n",
    "        for curso in cursos:\n",
    "            self.notas[curso] = self.__gera_nota(nota_min, nota_max)\n",
    "        \n",
    "    def __gera_nota(self, nota_min=0, nota_max=10):\n",
    "        '''Gera um valor inteiro em [nota_min, nota_max]'''\n",
    "        return random.randint(nota_min, nota_max)\n",
    "    \n",
    "    def __decide_notas_minmax(self, estudou):\n",
    "        ''' Recebe a informação se o aluno estudou, não estudou ou se não se sabe e dependendo do caso\n",
    "        retorna quais são as notas minimas e maximas possiveis\n",
    "        '''\n",
    "        assert estudou in ['Nao Sei', 'Estudou', 'Nao Estudou'], 'Fale corretamente'\n",
    "        if estudou == 'Nao Sei':\n",
    "            nota_min, nota_max = 0, 10\n",
    "        elif estudou == 'Estudou':\n",
    "            nota_min, nota_max = 5, 10\n",
    "        else:\n",
    "            nota_min, nota_max = 0, 5\n",
    "        return nota_min, nota_max"
   ]
  },
  {
   "cell_type": "code",
   "execution_count": 9,
   "metadata": {},
   "outputs": [],
   "source": [
    "class Aluno_2(Aluno):\n",
    "    \n",
    "    def __str__(self):\n",
    "        media = self.calcula_media()\n",
    "        return f'O aluno(a) de RA {self.ra} tem uma media de {media} em {len(self.notas)} cursos'\n",
    "    \n",
    "    def __ge__(self, outro_aluno):\n",
    "        minha_media = self.calcula_media()\n",
    "        outro_media = outro_aluno.calcula_media()\n",
    "        return minha_media >= outro_media\n",
    "    \n",
    "    @classmethod\n",
    "    def define_avisos(cls, aviso):\n",
    "        cls.aviso = aviso\n",
    "        \n",
    "    @staticmethod\n",
    "    def dominio_email():\n",
    "        return '@dac.unicamp.br'"
   ]
  },
  {
   "cell_type": "code",
   "execution_count": 12,
   "metadata": {},
   "outputs": [
    {
     "data": {
      "text/plain": [
       "True"
      ]
     },
     "execution_count": 12,
     "metadata": {},
     "output_type": "execute_result"
    }
   ],
   "source": [
    "jose = Aluno_2(147896)\n",
    "florentina = Aluno(123654)\n",
    "\n",
    "jose.faz_prova(['Metods', 'Analise', 'Algebra'])\n",
    "florentina.faz_prova(['Analise', 'Quimica', 'Historia'])\n",
    "\n",
    "jose >= florentina"
   ]
  },
  {
   "cell_type": "markdown",
   "metadata": {},
   "source": [
    "Veja que ao escrever **Aluno_2(Aluno)** fazemos com que classe Aluno_2 tenha tudo que já foi definido em Aluno, se definirmos uma função que já tenha sido escrita em Aluno iremos sobre-escrevela, porém podemos chamar a mesma utilizando **super**"
   ]
  },
  {
   "cell_type": "code",
   "execution_count": 13,
   "metadata": {},
   "outputs": [],
   "source": [
    "class Aluno_USP(Aluno_2):\n",
    "    def __init__(self, curso, ra):\n",
    "        super().__init__(ra)\n",
    "        self.curso = curso\n",
    "        \n",
    "    @staticmethod\n",
    "    def dominio_email():\n",
    "        return '@dac.usp.br'"
   ]
  },
  {
   "cell_type": "code",
   "execution_count": 15,
   "metadata": {},
   "outputs": [
    {
     "name": "stdout",
     "output_type": "stream",
     "text": [
      "@dac.usp.br 145623\n"
     ]
    }
   ],
   "source": [
    "maria = Aluno_USP('matematica', 145623)\n",
    "print(maria.dominio_email(), maria.ra)"
   ]
  },
  {
   "cell_type": "markdown",
   "metadata": {},
   "source": [
    "Veja que ao utilizar **super init** na definição do **init** de **Aluno_USP** fazemos com que a função **init** de **Aluno_2** seja chamada e portanto temos também o atributo **ra** apesar de não termos escrito explicitamente."
   ]
  }
 ],
 "metadata": {
  "kernelspec": {
   "display_name": "Python [conda root]",
   "language": "python",
   "name": "conda-root-py"
  },
  "language_info": {
   "codemirror_mode": {
    "name": "ipython",
    "version": 3
   },
   "file_extension": ".py",
   "mimetype": "text/x-python",
   "name": "python",
   "nbconvert_exporter": "python",
   "pygments_lexer": "ipython3",
   "version": "3.6.5"
  }
 },
 "nbformat": 4,
 "nbformat_minor": 2
}
