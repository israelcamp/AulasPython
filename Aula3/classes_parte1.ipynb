{
 "cells": [
  {
   "cell_type": "markdown",
   "metadata": {},
   "source": [
    "# Aula 3 - Classes - Parte 1"
   ]
  },
  {
   "cell_type": "markdown",
   "metadata": {},
   "source": [
    "Relembrando as aulas passadas, vimos como podemos escrever um dicionário e definir por exemplo valores a alunos, podiamos então fazer algo da seguinte forma:"
   ]
  },
  {
   "cell_type": "code",
   "execution_count": 1,
   "metadata": {},
   "outputs": [],
   "source": [
    "nota_metodos = {'tadeu':8, 'jose':7.5, 'carmina': 9.5}"
   ]
  },
  {
   "cell_type": "markdown",
   "metadata": {},
   "source": [
    "E acessar as notas de cada aluno é muito fácil"
   ]
  },
  {
   "cell_type": "code",
   "execution_count": 2,
   "metadata": {},
   "outputs": [
    {
     "name": "stdout",
     "output_type": "stream",
     "text": [
      "8\n",
      "{'tadeu': 8, 'jose': 7.5, 'carmina': 9.5, 'joaquina': 10}\n"
     ]
    }
   ],
   "source": [
    "print(nota_metodos['tadeu']) #printa a nota do tadeu\n",
    "nota_metodos['joaquina'] = 10 # adiciona joaquina ou nosso dicionario\n",
    "print(nota_metodos)"
   ]
  },
  {
   "cell_type": "markdown",
   "metadata": {},
   "source": [
    "Agora, suponhamos que queremos atribuir a cada aluno várias notas de diferentes cursos. Poderiamos cirar um dicionário para cada curso e inserir as notas como acima, mas há um jeito mais fácil de controlar os atributos do aluno e suas notas, por classes. Vamos começar definindo uma simples classe que possibilita o aluno a fazer uma prova de métodos."
   ]
  },
  {
   "cell_type": "code",
   "execution_count": 3,
   "metadata": {},
   "outputs": [],
   "source": [
    "import random"
   ]
  },
  {
   "cell_type": "code",
   "execution_count": 4,
   "metadata": {},
   "outputs": [],
   "source": [
    "class Aluno():\n",
    "    \n",
    "    def faz_prova_metodos(self, estudou='Nao Sei'):\n",
    "        ''' Recebe a informação se o aluno estudou ou não, se a informação não for passada utilizada \"Nao Sei\" como\n",
    "        valor predefinido.\n",
    "        '''\n",
    "        nota_min, nota_max = self.__faz_prova(estudou)\n",
    "        self.nota_metodos = self.__gera_nota(nota_min, nota_max)\n",
    "        \n",
    "    def __gera_nota(self, nota_min=0, nota_max=10):\n",
    "        '''Gera um valor inteiro em [nota_min, nota_max]'''\n",
    "        return random.randint(nota_min, nota_max)\n",
    "    \n",
    "    def __faz_prova(self, estudou):\n",
    "        ''' Recebe a informação se o aluno estudou, não estudou ou se não se sabe e dependendo do caso\n",
    "        retorna quais são as notas minimas e maximas possiveis\n",
    "        '''\n",
    "        assert estudou in ['Nao Sei', 'Estudou', 'Nao Estudou'], 'Fale corretamente'\n",
    "        if estudou == 'Nao Sei':\n",
    "            nota_min, nota_max = 0, 10\n",
    "        elif estudou == 'Estudou':\n",
    "            nota_min, nota_max = 5, 10\n",
    "        else:\n",
    "            nota_min, nota_max = 0, 5\n",
    "        return nota_min, nota_max"
   ]
  },
  {
   "cell_type": "code",
   "execution_count": 5,
   "metadata": {},
   "outputs": [
    {
     "name": "stdout",
     "output_type": "stream",
     "text": [
      "3\n"
     ]
    }
   ],
   "source": [
    "newton = Aluno() # criando um aluno novo\n",
    "newton.faz_prova_metodos() # chamando \n",
    "print(newton.nota_metodos)"
   ]
  },
  {
   "cell_type": "markdown",
   "metadata": {},
   "source": [
    "***self*** faz uma alusão a si mesmo, ou seja, para o objeto, neste caso um aluno, usar a si mesmo como atributo desta função, por isso quando fazemos **newton.faz_prova_metodos()** , o objeto sabe que ele mesmo deve fazer a prova. Poderiamos ainda escrever da seguinte maneira:\n",
    "\n"
   ]
  },
  {
   "cell_type": "code",
   "execution_count": 6,
   "metadata": {
    "scrolled": true
   },
   "outputs": [
    {
     "name": "stdout",
     "output_type": "stream",
     "text": [
      "2\n"
     ]
    }
   ],
   "source": [
    "Aluno.faz_prova_metodos(newton) # estamos que o aluno a fazer a prova de metodos é o newton\n",
    "print(newton.nota_metodos)"
   ]
  },
  {
   "cell_type": "markdown",
   "metadata": {},
   "source": [
    "**Obs**: Funções que começam com **__** dentro de uma classe são vistas como funções que não devem ser acessadas pelo usuário, por exemplo, não queremos que o usuário chame **newton.__gera_nota()**, pois não há nenhum contexto envolvido. Vale ressaltar que apesar disso, nada impede o usuário de faze-lo.\n",
    "\n",
    "Agora vamos seguir para uma classe um pouco mais complexa, como sabemos um aluno pode fazer diversos cursos e obter notas diferentes, logo queremos escrever uma classe que nos possibilite gerar as notas para diferentes disciplinas e acessá-las quando quisermos, uma saida prática é combinar dicionários com a classe."
   ]
  },
  {
   "cell_type": "code",
   "execution_count": 7,
   "metadata": {},
   "outputs": [],
   "source": [
    "class Aluno_2():\n",
    "    notas = {} # dicionario que ira guardar a nota em cada disciplina\n",
    "    \n",
    "    def faz_prova(self, curso, estudou='Nao Sei'):\n",
    "        ''' Recebe a informação se o aluno estudou ou não, se a informação não for passada utilizada Nao Sei como\n",
    "        valor predefinido.\n",
    "        '''\n",
    "        nota_min, nota_max = self.__decide_notas_minmax(estudou) #decide nota minima e maxima\n",
    "        self.notas[curso] = self.__gera_nota(nota_min, nota_max)\n",
    "        \n",
    "    def __gera_nota(self, nota_min=0, nota_max=10):\n",
    "        '''Gera um valor inteiro em [nota_min, nota_max]'''\n",
    "        return random.randint(nota_min, nota_max)\n",
    "    \n",
    "    def __decide_notas_minmax(self, estudou):\n",
    "        ''' Recebe a informação se o aluno estudou, não estudou ou se não se sabe e dependendo do caso\n",
    "        retorna quais são as notas minimas e maximas possiveis\n",
    "        '''\n",
    "        assert estudou in ['Nao Sei', 'Estudou', 'Nao Estudou'], 'Fale corretamente'\n",
    "        if estudou == 'Nao Sei':\n",
    "            nota_min, nota_max = 0, 10\n",
    "        elif estudou == 'Estudou':\n",
    "            nota_min, nota_max = 5, 10\n",
    "        else:\n",
    "            nota_min, nota_max = 0, 5\n",
    "        return nota_min, nota_max"
   ]
  },
  {
   "cell_type": "code",
   "execution_count": 8,
   "metadata": {},
   "outputs": [
    {
     "name": "stdout",
     "output_type": "stream",
     "text": [
      "6\n"
     ]
    }
   ],
   "source": [
    "jose = Aluno_2()\n",
    "jose.faz_prova(curso='calculo', estudou='Estudou')\n",
    "print(jose.notas['calculo'])"
   ]
  },
  {
   "cell_type": "code",
   "execution_count": 9,
   "metadata": {},
   "outputs": [
    {
     "name": "stdout",
     "output_type": "stream",
     "text": [
      "{'calculo': 6, 'quimica': 2}\n"
     ]
    }
   ],
   "source": [
    "carmina = Aluno_2() # cria nova aluna\n",
    "carmina.faz_prova('quimica', 'Nao Estudou') # pede para ela fazer prova de quimica\n",
    "print(carmina.notas)"
   ]
  },
  {
   "cell_type": "markdown",
   "metadata": {},
   "source": [
    "## Atenção!!\n",
    "\n",
    "Veja como apesar de **carmina** ser uma nova aluna e pedirmos para ela fazer somente a prova de quimica nas suas notas aparece também a nota que **josé** obteve em cálculo, isto se deve a forma como inicializamos o dicionário de notas, queremos então que cada um tenha seu próprio dicionário de notas, para isso devemos inserir uma nova função na nossa classe."
   ]
  },
  {
   "cell_type": "code",
   "execution_count": 10,
   "metadata": {},
   "outputs": [],
   "source": [
    "class Aluno_3():\n",
    "    \n",
    "    def __init__(self):\n",
    "        self.notas = {} \n",
    "        \n",
    "    def faz_prova(self, curso, estudou='Nao Sei'):\n",
    "        ''' Recebe a informação se o aluno estudou ou não, se a informação não for passada utilizada Nao Sei como\n",
    "        valor predefinido.\n",
    "        '''\n",
    "        nota_min, nota_max = self.__decide_notas_minmax(estudou) #decide nota minima e maxima\n",
    "        self.notas[curso] = self.__gera_nota(nota_min, nota_max)\n",
    "        \n",
    "    def __gera_nota(self, nota_min=0, nota_max=10):\n",
    "        '''Gera um valor inteiro em [nota_min, nota_max]'''\n",
    "        return random.randint(nota_min, nota_max)\n",
    "    \n",
    "    def __decide_notas_minmax(self, estudou):\n",
    "        ''' Recebe a informação se o aluno estudou, não estudou ou se não se sabe e dependendo do caso\n",
    "        retorna quais são as notas minimas e maximas possiveis\n",
    "        '''\n",
    "        assert estudou in ['Nao Sei', 'Estudou', 'Nao Estudou'], 'Fale corretamente'\n",
    "        if estudou == 'Nao Sei':\n",
    "            nota_min, nota_max = 0, 10\n",
    "        elif estudou == 'Estudou':\n",
    "            nota_min, nota_max = 5, 10\n",
    "        else:\n",
    "            nota_min, nota_max = 0, 5\n",
    "        return nota_min, nota_max"
   ]
  },
  {
   "cell_type": "code",
   "execution_count": 11,
   "metadata": {},
   "outputs": [
    {
     "name": "stdout",
     "output_type": "stream",
     "text": [
      "{'calculo': 8}\n",
      "{'quimica': 1}\n"
     ]
    }
   ],
   "source": [
    "jose = Aluno_3()\n",
    "jose.faz_prova(curso='calculo', estudou='Estudou')\n",
    "print(jose.notas)\n",
    "\n",
    "carmina = Aluno_3()\n",
    "carmina.faz_prova('quimica', 'Nao Estudou') \n",
    "print(carmina.notas)"
   ]
  },
  {
   "cell_type": "markdown",
   "metadata": {},
   "source": [
    "Veja que agora este problema não aconteceu, isto se deve ao fato da função **__init__** inicializar cada aluno com seu próprio dicionário de notas. **__init__** funciona como uma função normal que é sempre chamada quando criamos um novo aluno, e como uma função qualquer pode levar parâmetros, poderiamos fazer do tipo:"
   ]
  },
  {
   "cell_type": "code",
   "execution_count": 12,
   "metadata": {},
   "outputs": [],
   "source": [
    "class Aluno_3_1():\n",
    "    \n",
    "    def __init__(self, ra):\n",
    "        self.notas = {}\n",
    "        self.ra = ra # salva o ra do aluno\n",
    "        \n",
    "    def faz_prova(self, curso, estudou='Nao Sei'):\n",
    "        ''' Recebe a informação se o aluno estudou ou não, se a informação não for passada utilizada Nao Sei como\n",
    "        valor predefinido.\n",
    "        '''\n",
    "        nota_min, nota_max = self.__decide_notas_minmax(estudou) #decide nota minima e maxima\n",
    "        self.notas[curso] = self.__gera_nota(nota_min, nota_max)\n",
    "        \n",
    "    def __gera_nota(self, nota_min=0, nota_max=10):\n",
    "        '''Gera um valor inteiro em [nota_min, nota_max]'''\n",
    "        return random.randint(nota_min, nota_max)\n",
    "    \n",
    "    def __decide_notas_minmax(self, estudou):\n",
    "        ''' Recebe a informação se o aluno estudou, não estudou ou se não se sabe e dependendo do caso\n",
    "        retorna quais são as notas minimas e maximas possiveis\n",
    "        '''\n",
    "        assert estudou in ['Nao Sei', 'Estudou', 'Nao Estudou'], 'Fale corretamente'\n",
    "        if estudou == 'Nao Sei':\n",
    "            nota_min, nota_max = 0, 10\n",
    "        elif estudou == 'Estudou':\n",
    "            nota_min, nota_max = 5, 10\n",
    "        else:\n",
    "            nota_min, nota_max = 0, 5\n",
    "        return nota_min, nota_max"
   ]
  },
  {
   "cell_type": "code",
   "execution_count": 13,
   "metadata": {},
   "outputs": [
    {
     "name": "stdout",
     "output_type": "stream",
     "text": [
      "155978\n"
     ]
    }
   ],
   "source": [
    "tomeo = Aluno_3_1(155978)\n",
    "print(tomeo.ra)"
   ]
  }
 ],
 "metadata": {
  "kernelspec": {
   "display_name": "Python [conda root]",
   "language": "python",
   "name": "conda-root-py"
  },
  "language_info": {
   "codemirror_mode": {
    "name": "ipython",
    "version": 3
   },
   "file_extension": ".py",
   "mimetype": "text/x-python",
   "name": "python",
   "nbconvert_exporter": "python",
   "pygments_lexer": "ipython3",
   "version": "3.6.5"
  }
 },
 "nbformat": 4,
 "nbformat_minor": 2
}
